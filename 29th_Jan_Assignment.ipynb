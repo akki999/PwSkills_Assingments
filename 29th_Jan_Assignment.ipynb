{
 "cells": [
  {
   "cell_type": "markdown",
   "id": "95d3b2d2",
   "metadata": {},
   "source": [
    "## Assignment 29th Jan 2023:"
   ]
  },
  {
   "cell_type": "markdown",
   "id": "60ea677b",
   "metadata": {},
   "source": [
    "1. Who developed Python Programming Language:\n",
    "\n",
    "Ans: Python was created by Guido van Rossum, and first released on February 20, 1991."
   ]
  },
  {
   "cell_type": "markdown",
   "id": "482913b0",
   "metadata": {},
   "source": [
    "2. Which type of programming does Python support?\n",
    "\n",
    "Ans: Python supports four main programming paradigms: imperative, functional, procedural, and object-oriented."
   ]
  },
  {
   "cell_type": "markdown",
   "id": "55514997",
   "metadata": {},
   "source": [
    "3. Is Python case sensitive when dealing with Identifiers?\n",
    "\n",
    "Ans: Yes, Python is a case-sensitive language, i.e., it treats uppercase and lowercase characters differently. This applies to identifiers too. You must avoid using the same name with different cases while naming identifiers."
   ]
  },
  {
   "cell_type": "markdown",
   "id": "7e4cc0ee",
   "metadata": {},
   "source": [
    "4. What is the correct extension of Python File?\n",
    "\n",
    "Ans: .py is the correct extension of Python file."
   ]
  },
  {
   "cell_type": "markdown",
   "id": "56b3dc09",
   "metadata": {},
   "source": [
    "5. Is Python code compiled or interpreted?\n",
    "\n",
    "Ans: Python is both compiled as well as an interpreted language, which means when we run a python code, it is first compiled and then interpreted line by line."
   ]
  },
  {
   "cell_type": "markdown",
   "id": "b3cbb8e4",
   "metadata": {},
   "source": [
    "6. Name a few blocks of code used to define in Python language:\n",
    "\n",
    "Ans: Indentation is used to define a block of code in python. Braces {} are used to define a block of code in most programming languages, like C, C++, and Java. But this indentation makes python unique among all programming languages.\n",
    "\n",
    "This indentation highlights the block of code. In Python, indentation is done with whitespace. All statements with the same right-hand distance belong to the same code block. If a block needs to be more nested, it is indented to the right.\n",
    "\n",
    "Indentation is only used in most other programming languages to help make the code look nice. However, it is required in Python to indicate which block of code a statement belongs to. Example Given Below:"
   ]
  },
  {
   "cell_type": "code",
   "execution_count": 3,
   "id": "d7df1cc5",
   "metadata": {},
   "outputs": [
    {
     "name": "stdout",
     "output_type": "stream",
     "text": [
      "Correct Name!!\n",
      "HI\n"
     ]
    }
   ],
   "source": [
    "## Example of question 6:\n",
    "name = 'Alex'\n",
    "    \n",
    "if name == 'Alex':\n",
    "    print('Correct Name!!')\n",
    "else:\n",
    "    print('InCorrect Name:')\n",
    "print('HI')"
   ]
  },
  {
   "cell_type": "markdown",
   "id": "5b3df6ce",
   "metadata": {},
   "source": [
    "7. State a character whcich is used to give single line comments in Python:\n",
    "\n",
    "Ans: Hash Symbol(#) is used to give single line comments in python."
   ]
  },
  {
   "cell_type": "markdown",
   "id": "b4239717",
   "metadata": {},
   "source": [
    "8. Mention functions which help us to find the version of python that we are currently working on?"
   ]
  },
  {
   "cell_type": "code",
   "execution_count": 4,
   "id": "a146cbf9",
   "metadata": {},
   "outputs": [
    {
     "name": "stdout",
     "output_type": "stream",
     "text": [
      "User Current Version:- 3.9.7 (default, Sep 16 2021, 16:59:28) [MSC v.1916 64 bit (AMD64)]\n"
     ]
    }
   ],
   "source": [
    "## 1st Method:\n",
    "import sys \n",
    "print(\"User Current Version:-\", sys.version)"
   ]
  },
  {
   "cell_type": "code",
   "execution_count": 5,
   "id": "33cd9cb1",
   "metadata": {},
   "outputs": [
    {
     "name": "stdout",
     "output_type": "stream",
     "text": [
      "Current Python Version- 3.9.7\n"
     ]
    }
   ],
   "source": [
    "## 2nd Method: Using python_version() function\n",
    "from platform import python_version\n",
    "print(\"Current Python Version-\", python_version())"
   ]
  },
  {
   "cell_type": "markdown",
   "id": "9640bfec",
   "metadata": {},
   "source": [
    "3rd Method. Using python -V command\n",
    "This method is one of the simplest methods among all other methods as in this method users get the current python version with one of the inbuilt commands present in python.\n",
    "\n",
    "Here are some steps that the user must follow to get its current running version of the python interpreter:-\n",
    "\n",
    "Open cmd/terminal/windows powershell\n",
    "Now, write the same command as mention below in the code box given, and press enter, with this it will return the current python interpreter version in the form of a string.\n",
    "\n",
    "##### Command: python -V"
   ]
  },
  {
   "cell_type": "markdown",
   "id": "1636497a",
   "metadata": {},
   "source": [
    "9. Python Supports creation of anonymus function at runtime using a constructor called?\n",
    "\n",
    "Ans: Lambda"
   ]
  },
  {
   "cell_type": "markdown",
   "id": "59fff9a0",
   "metadata": {},
   "source": [
    "10. What does PIP stands for in Python?\n",
    "\n",
    "Ans: Pip is one of the most famous and widely used package management system to install and manage software packages written in Python and found in Python Package Index (PyPI). Pip is a recursive acronym that can stand for either \"Pip Installs Packages\" or \"Pip Installs Python\". Alternatively, pip stands for \"preferred installer program\".\n",
    "\n",
    "Python 2.7.9 and later (on the python2 series), and Python 3.4 and later include pip (pip3 for Python 3) by default. It is an explicit replacement and indirect successor to easy_install that you saw earlier. Check out Python Packaging User Guide's page on pip vs easy_install for a detailed discussion."
   ]
  },
  {
   "cell_type": "markdown",
   "id": "1be2925f",
   "metadata": {},
   "source": [
    "10. Mention a few buit-in functions in Python:\n",
    "\n",
    "Ans:\n",
    "##### print( ) function\n",
    "##### type( ) function\n",
    "##### input( ) function\n",
    "##### abs( ) function\n",
    "##### pow( ) function\n",
    "##### dir( ) function\n",
    "##### sorted( ) function\n",
    "##### max( ) function\n",
    "##### round( ) function\n",
    "##### divmod( ) function\n",
    "##### id( ) function\n",
    "##### ord( ) function\n",
    "##### len( ) function\n",
    "##### sum( ) function\n",
    "##### help( ) function"
   ]
  },
  {
   "cell_type": "markdown",
   "id": "5126e3e3",
   "metadata": {},
   "source": [
    "12. What is the maximum possible length of an identifier in Python?\n",
    "\n",
    "Ans:  An identifier can have a maximum length of 79 characters in Python. Python is one of the most popular programming languages."
   ]
  },
  {
   "cell_type": "markdown",
   "id": "f18a7166",
   "metadata": {},
   "source": [
    "13. What are the benefits of Using Python?\n",
    "\n",
    "Ans:\n",
    "    1. Presence of third-party modules\n",
    "    \n",
    "    2. Extensive support libraries(NumPy for numerical calculations, Pandas for data analytics, etc.) \n",
    "    \n",
    "    3. Open source and large active community base \n",
    "    \n",
    "    4. Versatile, Easy to read, learn and write\n",
    "    \n",
    "    5. User-friendly data structures \n",
    "    \n",
    "    6. High-level language \n",
    "    \n",
    "    7. Dynamically typed language(No need to mention data type based on the value assigned, it takes data type) \n",
    "    \n",
    "    8. Object-Oriented and Procedural  Programming language\n",
    "    \n",
    "    9. Portable and Interactive\n",
    "    \n",
    "    10. Ideal for prototypes – provide more functionality with less coding\n",
    "    \n",
    "    11. Highly Efficient(Python’s clean object-oriented design provides enhanced process control, and the language is equipped with excellent text processing and integration capabilities, as well as its own unit testing framework, which makes it more efficient.)\n",
    "    \n",
    "    12. Internet of Things(IoT) Opportunities\n",
    "    \n",
    "    13. Interpreted Language\n",
    "    \n",
    "    14. Portable across Operating systems "
   ]
  },
  {
   "cell_type": "markdown",
   "id": "6b78fa14",
   "metadata": {},
   "source": [
    "14. How is memory managed in Python?\n",
    "\n",
    "Ans: \n",
    "    \n",
    "    1. Memory in Python is managed by Python private heap space. All Python objects and data structures are located in a private heap. This private heap is taken care of by Python Interpreter itself, and a programmer doesn’t have access to this private heap.\n",
    "    \n",
    "    2. Python memory manager takes care of the allocation of Python private heap space.\n",
    "    \n",
    "    3. Memory for Python private heap space is made available by Python’s in-built garbage collector, which recycles and frees up all the unused memory."
   ]
  },
  {
   "cell_type": "markdown",
   "id": "8b727209",
   "metadata": {},
   "source": [
    "15. How to install Python on windows and set Path variables:\n",
    "\n",
    "Ans: Install python from this link https://www.python.org/downloads/\n",
    "After this, install it on your PC. Look for the location where PYTHON has been installed on your PC using tge following command on your command prompt: cmd python.\n",
    "Then go to advanced system settings and add new variable and name it as PYTHON_NAME and paste the copied path.\n",
    "Then look for the path variable, select it's value and select edit\n",
    "Add a semicolon towards the end of the value if it's not present and then type %PYTHON_HOME%"
   ]
  },
  {
   "cell_type": "markdown",
   "id": "dcfd0fab",
   "metadata": {},
   "source": [
    "16. Is Indentation required in Python Code?\n",
    "\n",
    "Ans : Indentation refers to the spaces at the beginning of a code line.\n",
    "\n",
    "Where in other programming languages the indentation in code is for readability only, the indentation in Python is very important.\n",
    "\n",
    "Python uses indentation to indicate a block of code."
   ]
  },
  {
   "cell_type": "code",
   "execution_count": null,
   "id": "fbeea59b",
   "metadata": {},
   "outputs": [],
   "source": []
  }
 ],
 "metadata": {
  "kernelspec": {
   "display_name": "Python 3 (ipykernel)",
   "language": "python",
   "name": "python3"
  },
  "language_info": {
   "codemirror_mode": {
    "name": "ipython",
    "version": 3
   },
   "file_extension": ".py",
   "mimetype": "text/x-python",
   "name": "python",
   "nbconvert_exporter": "python",
   "pygments_lexer": "ipython3",
   "version": "3.9.7"
  }
 },
 "nbformat": 4,
 "nbformat_minor": 5
}
