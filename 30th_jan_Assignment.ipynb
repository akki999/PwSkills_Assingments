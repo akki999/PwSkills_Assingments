{
 "cells": [
  {
   "cell_type": "markdown",
   "id": "e0a99d9b",
   "metadata": {},
   "source": [
    "1. Write a Python program to accept the percentage from user and display the grade according to following criteria:\n",
    "    \n",
    "    Marks >90 Grade A\n",
    "    \n",
    "    Marks >80 and <=90 Grade B\n",
    "    \n",
    "    Marks >=60 and <=80 Grade C\n",
    "    \n",
    "    Marks < 60 Grade D"
   ]
  },
  {
   "cell_type": "code",
   "execution_count": 9,
   "id": "b260892b",
   "metadata": {},
   "outputs": [
    {
     "name": "stdout",
     "output_type": "stream",
     "text": [
      "Enter the Marks:65\n",
      "Grade C\n"
     ]
    }
   ],
   "source": [
    "marks = int(input(\"Enter the Marks:\"))\n",
    "if marks > 90:\n",
    "    print(\"Grade A\")\n",
    "elif marks > 80 and marks <= 90:\n",
    "    print(\"Grade B\")\n",
    "elif marks >= 60 and marks <= 80:\n",
    "    print(\"Grade C\")\n",
    "else:\n",
    "    print(\"Grade D\")"
   ]
  },
  {
   "cell_type": "markdown",
   "id": "ea4ae69e",
   "metadata": {},
   "source": [
    "2. Write a python Program to accept the cost price of bike and display the road tax to be paid according to following criteria:\n",
    "    \n",
    "    Cost Price In Rs > 100000 Tax 15%\n",
    "    \n",
    "    Cost Price In Rs > 50000 and <= 100000 Tax 10%\n",
    "    \n",
    "    Cost Price In Rs <= 50000 Tax 5%"
   ]
  },
  {
   "cell_type": "code",
   "execution_count": 20,
   "id": "057a3196",
   "metadata": {},
   "outputs": [
    {
     "name": "stdout",
     "output_type": "stream",
     "text": [
      "Enter the Cost Price of Bike:75000\n",
      "Tax to be paid 7500.0.\n"
     ]
    }
   ],
   "source": [
    "cost_price = int(input(\"Enter the Cost Price of Bike:\"))\n",
    "if cost_price > 100000:\n",
    "    print(f\"Tax to be paid {cost_price * 0.15}.\")\n",
    "elif cost_price > 50000 and cost_price <= 100000:\n",
    "    print(f\"Tax to be paid {cost_price * 0.10}.\")\n",
    "else:\n",
    "    print(f\"Tax to be paid {cost_price * 0.05}.\")"
   ]
  },
  {
   "cell_type": "markdown",
   "id": "f2830810",
   "metadata": {},
   "source": [
    "3. Write a Python program to accept any city from user and display monuments of that city:\n",
    "    \n",
    "    City Delhi then Monument Red fort\n",
    "    \n",
    "    City Agra then Monument Taj Mahal\n",
    "    \n",
    "    City Jaipur then Monument Jal Mahal"
   ]
  },
  {
   "cell_type": "code",
   "execution_count": 17,
   "id": "ca6eacf0",
   "metadata": {},
   "outputs": [
    {
     "name": "stdout",
     "output_type": "stream",
     "text": [
      "Enter the City:Mumbai\n",
      "Please enter the city either between Delhi, Jaipur or Agra.\n"
     ]
    }
   ],
   "source": [
    "city = input(\"Enter the City:\")\n",
    "if city == \"Delhi\" or city == \"delhi\" or city == \"DELHI\":\n",
    "    print(f\"Great Monument of {city} is Red Fort.\")\n",
    "    \n",
    "elif city == \"Agra\" or city == \"agra\" or city == \"AGRA\":\n",
    "     print(f\"Great Monument of {city} is Taj Mahal.\")\n",
    "        \n",
    "elif city == \"Jaipur\" or city == \"jaipur\" or city == \"JAIPUR\":\n",
    "     print(f\"Great Monument of {city} is Jal Mahal.\")\n",
    "\n",
    "else:\n",
    "    print(\"Please enter the city either between Delhi, Jaipur or Agra.\")"
   ]
  },
  {
   "cell_type": "markdown",
   "id": "15e817e5",
   "metadata": {},
   "source": [
    "4. Write a python program to check how many times given number can be divided by 3 before it is less than or equal to 10:"
   ]
  },
  {
   "cell_type": "code",
   "execution_count": 21,
   "id": "404b5414",
   "metadata": {},
   "outputs": [
    {
     "name": "stdout",
     "output_type": "stream",
     "text": [
      "Enter the number to be checked:100\n",
      "1\n"
     ]
    }
   ],
   "source": [
    "number = int(input(\"Enter the number to be checked:\"))\n",
    "count=1\n",
    "if(number%3==0 and number!=10):\n",
    "     count=count+1\n",
    "print(count)"
   ]
  },
  {
   "cell_type": "markdown",
   "id": "816dc501",
   "metadata": {},
   "source": [
    "5. Why and when use while loop in python give a detailed description with example:\n",
    "    \n",
    "Python While Loop is used to execute a block of statements repeatedly until a given condition is satisfied. And when the  condition becomes false, the line immediately after the loop in the program is executed.\n",
    "    \n",
    "While loop falls under the category of indefinite iteration. Indefinite iteration means that the number of times the loop is executed isn’t specified explicitly in advance.\n",
    "    \n",
    "Statements represent all the statements indented by the same number of character spaces after a programming construct are considered to be part of a single block of code. Python uses indentation as its method of grouping statements. When a while loop is executed, expr is first evaluated in a Boolean context and if it is true, the loop body is executed. Then the expr is checked again, if it is still true then the body is executed again and this continues until the expression becomes false.\n",
    "        \n",
    "Example Given below:"
   ]
  },
  {
   "cell_type": "code",
   "execution_count": 22,
   "id": "523d667e",
   "metadata": {},
   "outputs": [
    {
     "name": "stdout",
     "output_type": "stream",
     "text": [
      "Hello Baccho Kya haal chaal!!!\n",
      "Hello Baccho Kya haal chaal!!!\n",
      "Hello Baccho Kya haal chaal!!!\n"
     ]
    }
   ],
   "source": [
    "count = 0\n",
    "while (count < 3):\n",
    "    count = count + 1\n",
    "    print(\"Hello Baccho Kya haal chaal!!!\")"
   ]
  },
  {
   "cell_type": "markdown",
   "id": "6e8bd2d6",
   "metadata": {},
   "source": [
    "6. Use nested while loop to print 3 different patterns."
   ]
  },
  {
   "cell_type": "code",
   "execution_count": 23,
   "id": "79091a38",
   "metadata": {},
   "outputs": [
    {
     "name": "stdout",
     "output_type": "stream",
     "text": [
      "enter a number5\n",
      "* \n",
      "* * \n",
      "* * * \n",
      "* * * * \n",
      "* * * * * \n"
     ]
    }
   ],
   "source": [
    "n = int(input('''enter a number'''))\n",
    "i = 1\n",
    "while i <= n :\n",
    "    j = 1\n",
    "    while j <= i:\n",
    "        print(\"*\", end = \" \")\n",
    "        j += 1\n",
    "    print()\n",
    "    i += 1"
   ]
  },
  {
   "cell_type": "code",
   "execution_count": 24,
   "id": "ecfa8fdf",
   "metadata": {},
   "outputs": [
    {
     "name": "stdout",
     "output_type": "stream",
     "text": [
      "enter a number5\n",
      "1 \n",
      "2 2 \n",
      "3 3 3 \n",
      "4 4 4 4 \n",
      "5 5 5 5 5 \n"
     ]
    }
   ],
   "source": [
    "n = int(input('''enter a number'''))\n",
    "i = 1\n",
    "while i <= n :\n",
    "    j = 1\n",
    "    while j <= i:\n",
    "        print(i, end = \" \")\n",
    "        j += 1\n",
    "    print()\n",
    "    i += 1"
   ]
  },
  {
   "cell_type": "code",
   "execution_count": 25,
   "id": "c0348013",
   "metadata": {},
   "outputs": [
    {
     "name": "stdout",
     "output_type": "stream",
     "text": [
      "enter a number10\n",
      "1 \n",
      "2 3 \n",
      "3 4 5 \n",
      "4 5 6 7 \n",
      "5 6 7 8 9 \n",
      "6 7 8 9 10 11 \n",
      "7 8 9 10 11 12 13 \n",
      "8 9 10 11 12 13 14 15 \n",
      "9 10 11 12 13 14 15 16 17 \n",
      "10 11 12 13 14 15 16 17 18 19 \n"
     ]
    }
   ],
   "source": [
    "n = int(input('''enter a number'''))\n",
    "i = 1\n",
    "while i <= n :\n",
    "    j = 0\n",
    "    while j < i:\n",
    "        print(i+j, end = \" \")\n",
    "        j += 1\n",
    "    print()\n",
    "    i += 1"
   ]
  },
  {
   "cell_type": "markdown",
   "id": "8122ace7",
   "metadata": {},
   "source": [
    "7. Reverse a while loop to display numbers from 10 to 1."
   ]
  },
  {
   "cell_type": "code",
   "execution_count": 26,
   "id": "97038066",
   "metadata": {},
   "outputs": [
    {
     "name": "stdout",
     "output_type": "stream",
     "text": [
      "Enter the number:10\n",
      "10\n",
      "9\n",
      "8\n",
      "7\n",
      "6\n",
      "5\n",
      "4\n",
      "3\n",
      "2\n",
      "1\n"
     ]
    }
   ],
   "source": [
    "n = int(input(\"Enter the number:\"))\n",
    "while n >= 1:\n",
    "    print(n)\n",
    "    n = n-1\n"
   ]
  },
  {
   "cell_type": "markdown",
   "id": "1913c052",
   "metadata": {},
   "source": [
    "8. Reverse a while loop to display numbers from 10 to 1.\n",
    "\n",
    "Ans : Refer to block 26 output of quest no7 as both questions are same."
   ]
  },
  {
   "cell_type": "code",
   "execution_count": null,
   "id": "986f4344",
   "metadata": {},
   "outputs": [],
   "source": []
  }
 ],
 "metadata": {
  "kernelspec": {
   "display_name": "Python 3 (ipykernel)",
   "language": "python",
   "name": "python3"
  },
  "language_info": {
   "codemirror_mode": {
    "name": "ipython",
    "version": 3
   },
   "file_extension": ".py",
   "mimetype": "text/x-python",
   "name": "python",
   "nbconvert_exporter": "python",
   "pygments_lexer": "ipython3",
   "version": "3.9.7"
  }
 },
 "nbformat": 4,
 "nbformat_minor": 5
}
