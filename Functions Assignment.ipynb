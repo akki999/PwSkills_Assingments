{
 "cells": [
  {
   "cell_type": "markdown",
   "id": "ea4c6292",
   "metadata": {},
   "source": [
    "## Function's Assignment:"
   ]
  },
  {
   "cell_type": "markdown",
   "id": "718da18b",
   "metadata": {},
   "source": [
    "Q1. Which keyword is used to create a function? \n",
    "Create a function to return a list of odd numbers in the range of 1 to 25."
   ]
  },
  {
   "cell_type": "code",
   "execution_count": 3,
   "id": "92b93b53",
   "metadata": {},
   "outputs": [
    {
     "data": {
      "text/plain": [
       "[1, 3, 5, 7, 9, 11, 13, 15, 17, 19, 21, 23, 25]"
      ]
     },
     "execution_count": 3,
     "metadata": {},
     "output_type": "execute_result"
    }
   ],
   "source": [
    "## def keyword is used to create a function in python.\n",
    "\n",
    "odd_list=[]\n",
    "def return_odd_number():\n",
    "    for i in range(1,26):\n",
    "        if i%2 != 0:\n",
    "            odd_list.append(i)\n",
    "    return odd_list\n",
    "\n",
    "return_odd_number()"
   ]
  },
  {
   "cell_type": "markdown",
   "id": "fa70c815",
   "metadata": {},
   "source": [
    "Q2. Why args and kwargs is used in some functions? Create a function each for args and **kwargs to demonstrate their use."
   ]
  },
  {
   "cell_type": "markdown",
   "id": "347d0d59",
   "metadata": {},
   "source": [
    "*args:\n",
    "    \n",
    "    Arbitrary Arguments, *args\n",
    "    \n",
    "    If you do not know how many arguments that will be passed into your function, add a * before the parameter name in the function definition.\n",
    "\n",
    "    This way the function will receive a tuple of arguments, and can access the items accordingly:"
   ]
  },
  {
   "cell_type": "code",
   "execution_count": 4,
   "id": "e267ecdb",
   "metadata": {},
   "outputs": [
    {
     "data": {
      "text/plain": [
       "\"The names are ('akki', 'viki', 'rohan', 'mohan', 'sohan')\""
      ]
     },
     "execution_count": 4,
     "metadata": {},
     "output_type": "execute_result"
    }
   ],
   "source": [
    "### args example\n",
    "def test1(*names):\n",
    "    return(f\"The names are {names}\")\n",
    "\n",
    "test1(\"akki\", \"viki\", \"rohan\", \"mohan\", \"sohan\")"
   ]
  },
  {
   "cell_type": "markdown",
   "id": "59f7e861",
   "metadata": {},
   "source": [
    "**kwargs:\n",
    "    \n",
    "    Arbitrary Keyword Arguments, **kwargs\n",
    "    \n",
    "    If you do not know how many keyword arguments that will be passed into your function, add two asterisk: ** before the parameter name in the function definition.\n",
    "\n",
    "    This way the function will receive a dictionary of arguments, and can access the items accordingly:"
   ]
  },
  {
   "cell_type": "code",
   "execution_count": 7,
   "id": "42172645",
   "metadata": {},
   "outputs": [
    {
     "data": {
      "text/plain": [
       "\"The sports are {'indoor': 'chess', 'outdoor': 'football'}\""
      ]
     },
     "execution_count": 7,
     "metadata": {},
     "output_type": "execute_result"
    }
   ],
   "source": [
    "## kwargs example:\n",
    "def test2(**sports):\n",
    "    return(f\"The sports are {sports}\")\n",
    "\n",
    "test2(indoor = \"chess\", outdoor = \"football\")"
   ]
  },
  {
   "cell_type": "markdown",
   "id": "3ed765fd",
   "metadata": {},
   "source": [
    "Q3.  What is an iterator in python? \n",
    "Name the method used to initialise the iterator object and the method\n",
    "used for iteration. \n",
    "Use these methods to print the first five elements of the given list [2, 4, 6, 8, 10, 12, 14, 16,\n",
    "18, 20]."
   ]
  },
  {
   "cell_type": "markdown",
   "id": "28857117",
   "metadata": {},
   "source": [
    "Iterator:\n",
    "\n",
    "Iterator in Python is an object that is used to iterate over iterable objects like lists, tuples, dicts, and sets.\n",
    "\n",
    "The iterator object is initialized using the iter() method. It uses the next() method for iteration.\n",
    "\n",
    "iter(): The iter() method is called for the initialization of an iterator. This returns an iterator object.\n",
    "    \n",
    "next(): The next method returns the next value for the iterable. When we use a for loop to traverse any iterable object, internally it uses the iter() method to get an iterator object, which further uses the next() method.\n",
    "\n",
    "example below:"
   ]
  },
  {
   "cell_type": "code",
   "execution_count": 1,
   "id": "a972bf8f",
   "metadata": {},
   "outputs": [
    {
     "name": "stdout",
     "output_type": "stream",
     "text": [
      "1\n",
      "2\n",
      "3\n",
      "4\n",
      "5\n"
     ]
    }
   ],
   "source": [
    "l1 = [1,2,3,4,5]\n",
    "\n",
    "iter_l1 = iter(l1) ## Initializing iterator using ite function.\n",
    "\n",
    "## next() function used for iteration:\n",
    "print(next(iter_l1))\n",
    "print(next(iter_l1))\n",
    "print(next(iter_l1))\n",
    "print(next(iter_l1))\n",
    "print(next(iter_l1))"
   ]
  },
  {
   "cell_type": "markdown",
   "id": "69250849",
   "metadata": {},
   "source": [
    "Q4.  What is a generator function in python? Why yield keyword is used? Give an example of a generator\n",
    "function."
   ]
  },
  {
   "cell_type": "markdown",
   "id": "2b0549cc",
   "metadata": {},
   "source": [
    "Generator-Function:\n",
    "    \n",
    "    A generator-function is defined like a normal function, but whenever it needs to generate a value, it does so with the yield keyword rather than return. \n",
    "\n",
    "    If the body of a def contains yield, the function automatically becomes a generator function.\n",
    "    \n",
    "    example below:"
   ]
  },
  {
   "cell_type": "code",
   "execution_count": 2,
   "id": "1c433954",
   "metadata": {},
   "outputs": [
    {
     "name": "stdout",
     "output_type": "stream",
     "text": [
      "1\n",
      "2\n",
      "3\n"
     ]
    }
   ],
   "source": [
    "## Generator Function:\n",
    "def simpleGeneratorFun():\n",
    "    yield 1           \n",
    "    yield 2           \n",
    "    yield 3           \n",
    "  \n",
    "# Driver code to check above generator function\n",
    "for value in simpleGeneratorFun():\n",
    "    print(value)"
   ]
  },
  {
   "cell_type": "markdown",
   "id": "6c337450",
   "metadata": {},
   "source": [
    "Q5. Create a generator function for prime numbers less than 1000. Use the next() method to print the\n",
    "first 20 prime numbers."
   ]
  },
  {
   "cell_type": "code",
   "execution_count": 3,
   "id": "f4d99543",
   "metadata": {},
   "outputs": [
    {
     "name": "stdout",
     "output_type": "stream",
     "text": [
      "2\n",
      "3\n",
      "4\n",
      "5\n",
      "6\n",
      "7\n",
      "8\n",
      "9\n",
      "10\n",
      "11\n",
      "12\n",
      "13\n",
      "14\n",
      "15\n",
      "16\n",
      "17\n",
      "18\n",
      "19\n",
      "20\n",
      "21\n"
     ]
    }
   ],
   "source": [
    "## Python program to print prime numbers using generator:\n",
    "\n",
    "def is_prime(n):\n",
    "    \n",
    "    if n==0 or n == 1 or n <0:\n",
    "        return False\n",
    "    else :\n",
    "        count = 0\n",
    "        for i in range(1,n+1):\n",
    "            if n%i == 0:\n",
    "                count=count+1\n",
    "            if count == 2:\n",
    "                return True\n",
    "\n",
    "def prime_generator():\n",
    "    n=2\n",
    "    while n <= 1000:\n",
    "        if is_prime(n) == True:\n",
    "            yield n\n",
    "        n=n+1\n",
    "        \n",
    "a=prime_generator()\n",
    "for i in range(20):\n",
    "    print(next(a))\n",
    "        "
   ]
  },
  {
   "cell_type": "code",
   "execution_count": null,
   "id": "a87d44d7",
   "metadata": {},
   "outputs": [],
   "source": []
  }
 ],
 "metadata": {
  "kernelspec": {
   "display_name": "Python 3 (ipykernel)",
   "language": "python",
   "name": "python3"
  },
  "language_info": {
   "codemirror_mode": {
    "name": "ipython",
    "version": 3
   },
   "file_extension": ".py",
   "mimetype": "text/x-python",
   "name": "python",
   "nbconvert_exporter": "python",
   "pygments_lexer": "ipython3",
   "version": "3.9.7"
  }
 },
 "nbformat": 4,
 "nbformat_minor": 5
}
