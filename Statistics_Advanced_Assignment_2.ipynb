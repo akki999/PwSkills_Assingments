{
 "cells": [
  {
   "cell_type": "markdown",
   "id": "063194af",
   "metadata": {},
   "source": [
    "Q1: What are the Probability Mass Function (PMF) and Probability Density Function (PDF)? Explain with\n",
    "an example."
   ]
  },
  {
   "cell_type": "markdown",
   "id": "4fd3a48b",
   "metadata": {},
   "source": [
    "Probability mass and density functions are used to describe discrete and continuous probability distributions, respectively. \n",
    "\n",
    "This allows us to determine the probability of an observation being exactly equal to a target value (discrete) or within a set range around our target value (continuous). \n",
    "\n",
    "PMFs and PDFs are important to understand as you expand your knowledge of common statistical distributions!\n",
    "\n",
    "### Probability Mass Function — Discrete:\n",
    "    \n",
    "    The Probability Mass Function (PMF) provides the probability distribution for discrete variables. \n",
    "    \n",
    "    For example, rolling dice. There are 6 distinct possible outcomes that define the entire sample space {1, 2, 3, 4, 5, 6}. \n",
    "    \n",
    "    Note that we only have whole numbers, i.e. no 1.2 or 3.75. In the PMF, each discrete variable is mapped to its probability. \n",
    "    \n",
    "    In an ideal situation rolling a die, each of the six variables has a 1/6 probability of being rolled.\n",
    "\n",
    "### Probability Density Fucntion - Continous:\n",
    "\n",
    "    The probability density function (PDF) shows where observations are more likely to occur in the probability distribution. \n",
    "    \n",
    "    Perhaps the most important thing to remember to understand PDFs is that the probability of any specific outcome is 0. \n",
    "    \n",
    "    We have to think in terms of bins or ranges of values to calculate the probability of seeing those values. Why is that?\n",
    "\n",
    "    Basically because your height will never be exactly 6'! It could be 6.00001 or 5.99999. \n",
    "    \n",
    "    We use a range of values instead, because we can calculate the probability that your height is between 5'11\" and 6'1\". \n",
    "    \n",
    "    This spread is called the interval.\n",
    "\n",
    "    We can use PDFs to calculate probability by looking at the area under the curve for our interval. \n",
    "    \n",
    "    Mathematically, this is why a single point has 0 probability, the area of a point is 0. \n",
    "    \n",
    "    Because we have a continuous variable, we can use integrals to calculate the area under the curve between our interval with the following equation.\n",
    "    \n",
    "    "
   ]
  },
  {
   "cell_type": "markdown",
   "id": "e2099ccf",
   "metadata": {},
   "source": [
    "Q2: What is Cumulative Density Function (CDF)? Explain with an example. Why CDF is used?"
   ]
  },
  {
   "cell_type": "markdown",
   "id": "f52de23c",
   "metadata": {},
   "source": [
    "The cumulative distribution function (CDF) of random variable X is defined as FX(x) = P(X ≤ x), for all x ∈ R. \n",
    "\n",
    "Note that the subscript X indicates that this is the CDF of the random variable X. \n",
    "\n",
    "Also, note that the CDF is defined for all x ∈ R.\n",
    "\n",
    "The cumulative distribution function (CDF) calculates the cumulative probability for a given x-value. \n",
    "\n",
    "Use the CDF to determine the likelihood that a random observation taken from the population will be less than or equal to a particular value.\n",
    "\n",
    "The cumulative distribution function, FX(t) ranges from 0 to 1.\n",
    "\n",
    "Example:\n",
    "    \n",
    "    Finding the frequency of occurrence of values for the given phenomena using cumulative frequency analysis.\n",
    "    \n",
    "    To derive some simple statistics properties, by using an empirical distribution function, that uses a formal direct estimate of CDFs."
   ]
  },
  {
   "cell_type": "markdown",
   "id": "1d88ab6c",
   "metadata": {},
   "source": [
    "Q3: What are some examples of situations where the normal distribution might be used as a model?\n",
    "Explain how the parameters of the normal distribution relate to the shape of the distribution."
   ]
  },
  {
   "cell_type": "markdown",
   "id": "fb8ac3c6",
   "metadata": {},
   "source": [
    "### Some Example:\n",
    "\n",
    "    1. Tossing A Coin:\n",
    "        \n",
    "    Flipping a coin is one of the oldest methods for settling disputes. \n",
    "    We all have flipped a coin before a match or game. \n",
    "    The perceived fairness in flipping a coin lies in the fact that it has equal chances to come up with either result. \n",
    "    The chances of getting a head are 1/2, and the same is for tails. When we add both, it equals one. \n",
    "    If we toss coins multiple times, the sum of the probability of getting heads and tails will always remain 1.\n",
    "    \n",
    "    2. Blood pressure: \n",
    "        \n",
    "    Blood pressure generally follows a Gaussian distribution (normal) in the general population, and it makes Gaussian mixture models a suitable candidate for modelling blood pressure behaviour.\n",
    "    \n",
    "### Parameters of Normal Distribution:\n",
    "    \n",
    "    The two main parameters of a (normal) distribution are the mean and standard deviation. \n",
    "    The parameters determine the shape and probabilities of the distribution. \n",
    "    The shape of the distribution changes as the parameter values change."
   ]
  },
  {
   "cell_type": "markdown",
   "id": "87a5bed0",
   "metadata": {},
   "source": [
    "Q4: Explain the importance of Normal Distribution. Give a few real-life examples of Normal\n",
    "Distribution."
   ]
  },
  {
   "cell_type": "markdown",
   "id": "e04d177f",
   "metadata": {},
   "source": [
    "The normal distribution is widely used in understanding distributions of factors in the population. \n",
    "\n",
    "Because the normal distribution approximates many natural phenomena so well, it has developed into a standard of reference for many probability problems.\n",
    "\n",
    "### Real Life Examples:\n",
    "    \n",
    "    #### Height:\n",
    "    \n",
    "        The height of people is an example of normal distribution. \n",
    "\n",
    "        Most of the people in a specific population are of average height. \n",
    "\n",
    "        The number of people taller and shorter than the average height people is almost equal, and a very small number of people are either extremely tall or extremely short. \n",
    "\n",
    "        Several genetic and environmental factors influence height. Therefore, it follows the normal distribution.\n",
    "        \n",
    "    #### Rolling a dice:\n",
    "    \n",
    "        A fair rolling of dice is also a good example of normal distribution. \n",
    "        \n",
    "        In an experiment, it has been found that when a dice is rolled 100 times, chances to get ‘1’ are 15-18% \n",
    "        \n",
    "        and if we roll the dice 1000 times, the chances to get ‘1’ is, again, the same, which averages to 16.7% (1/6). \n",
    "        \n",
    "        If we roll two dice simultaneously, there are 36 possible combinations. \n",
    "        \n",
    "        The probability of rolling ‘1’ (with six possible combinations) again averages to around 16.7%, i.e., (6/36). \n",
    "        \n",
    "        More the number of dice more elaborate will be the normal distribution graph."
   ]
  },
  {
   "cell_type": "markdown",
   "id": "2832405f",
   "metadata": {},
   "source": [
    "Q5: What is Bernaulli Distribution? Give an Example. What is the difference between Bernoulli\n",
    "Distribution and Binomial Distribution?"
   ]
  },
  {
   "cell_type": "markdown",
   "id": "35d36a5d",
   "metadata": {},
   "source": [
    "#### Bernaulli Distribution:\n",
    "\n",
    "    Bernoulli distribution is a discrete probability distribution.\n",
    "    \n",
    "    It describes the probability of achieving a “success” or “failure” from a Bernoulli trial.\n",
    "    \n",
    "    A Bernoulli trial is an event that has only two possible outcomes (success or failure). \n",
    "    \n",
    "    Bernoulli distribution is a type of binomial distribution.\n",
    "    \n",
    "    Example:\n",
    "        \n",
    "        Will you pass or fail a test?\n",
    "        \n",
    "        Will your favorite sports team win or lose their next match?\n",
    "        \n",
    "        Will you be accepted or rejected for that job you applied for?\n",
    "        \n",
    "        Will you roll a six in the opening round of your favorite board game?\n",
    "        \n",
    "        Will you win or lose the lottery?\n",
    "        \n",
    "#### Difference Between Bernaulli and Binoamial:\n",
    "\n",
    "    In very simplistic terms, a Bernoulli distribution is a type of binomial distribution. \n",
    "    \n",
    "    We know that Bernoulli distribution applies to events that have one trial (n = 1) and two possible outcomes—\n",
    "    \n",
    "    for example, one coin flip (that’s the trial) and an outcome of either heads or tails. \n",
    "    \n",
    "    When we have more than one trial—say, \n",
    "    \n",
    "    we flip a coin five times—binomial distribution gives the discrete probability distribution of the number of “successes” in that sequence of independent coin flips (or trials).\n",
    "\n",
    "    So, to continue with the coin flip example: Bernoulli distribution gives you the probability of “success” (say, landing on heads) when flipping the coin just once (that’s your Bernoulli trial). \n",
    "        \n",
    "        If you flip the coin five times, binomial distribution will calculate the probability of success (landing on heads) across all five coin flips."
   ]
  },
  {
   "cell_type": "markdown",
   "id": "f6d35bc8",
   "metadata": {},
   "source": [
    "Q6. Consider a dataset with a mean of 50 and a standard deviation of 10. If we assume that the dataset\n",
    "is normally distributed, what is the probability that a randomly selected observation will be greater\n",
    "than 60? Use the appropriate formula and show your calculations."
   ]
  },
  {
   "cell_type": "markdown",
   "id": "ca3c3d01",
   "metadata": {},
   "source": [
    "We first calculate the z-score using formula (xi-mean)/std i.e (60-50)/10 which will came 1 and then with the help of z-table we will find the value of area under curve and then subtract that values with 1 which will give you your area of interest which is 0.1587"
   ]
  },
  {
   "cell_type": "markdown",
   "id": "a0c16d69",
   "metadata": {},
   "source": [
    "Q7: Explain uniform Distribution with an example."
   ]
  },
  {
   "cell_type": "markdown",
   "id": "9064268b",
   "metadata": {},
   "source": [
    "#### Uniform Distribution:\n",
    "\n",
    "    Uniform distributions are probability distributions with equally likely outcomes.\n",
    "    \n",
    "    In a discrete uniform distribution, outcomes are discrete and have the same probability.\n",
    "    \n",
    "    In a continuous uniform distribution, outcomes are continuous and infinite.\n",
    "    \n",
    "    In a normal distribution, data around the mean occur more frequently.\n",
    "    \n",
    "    The frequency of occurrence decreases the farther you are from the mean in a normal distribution.\n",
    "    \n",
    "#### Example of Uniform Distribution:\n",
    "\n",
    "    There are 52 cards in a traditional deck of cards. \n",
    "    \n",
    "    In it are four suits: hearts, diamonds, clubs, and spades. \n",
    "        \n",
    "    Each suit contains an A, 2, 3, 4, 5, 6, 7, 8, 9, 10, J, Q, K, and 2 jokers. \n",
    "    \n",
    "    However, we'll do away with the jokers and face cards for this example, focusing only on number cards replicated in each suit. \n",
    "    \n",
    "    As a result, we are left with 40 cards, a set of discrete data.\n",
    "\n",
    "    Suppose you want to know the probability of pulling a 2 of hearts from the modified deck. \n",
    "    \n",
    "    The probability of pulling a 2 of hearts is 1/40 or 2.5%. \n",
    "    \n",
    "    Each card is unique; therefore, the likelihood that you will pull any one of the cards in the deck is the same.\n",
    "\n",
    "    Now, let's consider the likelihood of pulling a heart from the deck. \n",
    "    \n",
    "    The probability is significantly higher. Why? We are now only concerned with the suits in the deck. \n",
    "    \n",
    "    Since there are only four suits, pulling a heart yields a probability of 1/4 or 25%."
   ]
  },
  {
   "cell_type": "markdown",
   "id": "3e7af30b",
   "metadata": {},
   "source": [
    "Q8: What is the z score? State the importance of the z score."
   ]
  },
  {
   "cell_type": "markdown",
   "id": "ebee683d",
   "metadata": {},
   "source": [
    "Z-score is measured in terms of standard deviations from the mean. \n",
    "\n",
    "If a Z-score is 0, it indicates that the data point's score is identical to the mean score. \n",
    "\n",
    "A Z-score of 1.0 would indicate a value that is one standard deviation from the mean.\n",
    "\n",
    "Formula of zscore is : (xi - mean) / std"
   ]
  },
  {
   "cell_type": "markdown",
   "id": "ed850e58",
   "metadata": {},
   "source": [
    "Q9: What is Central Limit Theorem? State the significance of the Central Limit Theorem."
   ]
  },
  {
   "cell_type": "markdown",
   "id": "c0eb6afa",
   "metadata": {},
   "source": [
    "The CLT is a statistical theory that states that - if you take a sufficiently large sample size from a population with a finite level of variance, the mean of all samples from that population will be roughly equal to the population mean.\n",
    "\n",
    "Significance of Central Limit Theorem\n",
    "The CLT has several applications. Look at the places where you can use it.\n",
    "\n",
    "Political/election polling is a great example of how you can use CLT. These polls are used to estimate the number of people who support a specific candidate. You may have seen these results with confidence intervals on news channels. The CLT aids in this calculation.\n",
    "You use the CLT in various census fields to calculate various population details, such as family income, electricity consumption, individual salaries, and so on.\n",
    "The CLT is useful in a variety of fields. Are there any others that come to mind? Put them in the comments section below this tutorial."
   ]
  },
  {
   "cell_type": "markdown",
   "id": "1d1ee892",
   "metadata": {},
   "source": [
    "Q10: State the assumptions of the Central Limit Theorem."
   ]
  },
  {
   "cell_type": "markdown",
   "id": "94e9c3c1",
   "metadata": {},
   "source": [
    "Before we move on further, it is important to understand the assumptions behind CLT:\n",
    "\n",
    "The data must adhere to the randomization rule. It needs to be sampled at random.\n",
    "The samples should be unrelated to one another. One sample should not impact the others.\n",
    "When taking samples without replacement, the sample size should not exceed 10% of the population.\n",
    "When the population is symmetric, a sample size of 30 is generally considered reasonable. \n",
    "\n",
    "Why n ≥ 30 Samples?\n",
    "The sample size of 30 is considered sufficient to see the effect of the CLT. If the population distribution is closer to the normal distribution, you will need fewer samples to demonstrate the central limit theorem. On the other hand, if the population distribution is highly skewed, you will need a large number of samples to understand the CLT."
   ]
  },
  {
   "cell_type": "code",
   "execution_count": null,
   "id": "78772be7",
   "metadata": {},
   "outputs": [],
   "source": []
  }
 ],
 "metadata": {
  "kernelspec": {
   "display_name": "Python 3 (ipykernel)",
   "language": "python",
   "name": "python3"
  },
  "language_info": {
   "codemirror_mode": {
    "name": "ipython",
    "version": 3
   },
   "file_extension": ".py",
   "mimetype": "text/x-python",
   "name": "python",
   "nbconvert_exporter": "python",
   "pygments_lexer": "ipython3",
   "version": "3.9.7"
  }
 },
 "nbformat": 4,
 "nbformat_minor": 5
}
