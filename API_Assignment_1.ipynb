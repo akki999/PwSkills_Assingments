{
 "cells": [
  {
   "cell_type": "markdown",
   "id": "55ec0a0c",
   "metadata": {},
   "source": [
    "## Python API Assignment 1:"
   ]
  },
  {
   "cell_type": "markdown",
   "id": "60952602",
   "metadata": {},
   "source": [
    "Q1. What is an API? Give an example, where an API is used in real life."
   ]
  },
  {
   "cell_type": "markdown",
   "id": "bcae6868",
   "metadata": {},
   "source": [
    "A. API:\n",
    "    \n",
    "    An API is a communication interface that allows two separate software components to share data. \n",
    "    An API operates as a bridge between internal and external software operations, allowing for a fluid interchange of data that frequently passes undetected by the end-user. \n",
    "    Simply said, an API acts as a virtual middleman, transferring data from one interface, such as a mobile app, to another. \n",
    "    APIs connect various sections of a software platform to guarantee that information is sent correctly. \n",
    "    These connection points serve as an internal communication route, and a way for external tools to access the same data.\n",
    "    \n",
    "B. Real Life Example:\n",
    "    \n",
    "    APIs are used in web applications to connect user-facing front ends with critical back-end functionality and data.\n",
    "    APIs are used to deliver material by streaming services such as Spotify and Netflix.\n",
    "    APIs are used by automakers such as Tesla to provide software upgrades. Others utilize APIs to make automotive data available to third parties."
   ]
  },
  {
   "cell_type": "markdown",
   "id": "bd77636f",
   "metadata": {},
   "source": [
    "Q2. Give advantages and disadvantages of using API."
   ]
  },
  {
   "cell_type": "markdown",
   "id": "e903f01c",
   "metadata": {},
   "source": [
    "A. Advantages:\n",
    "    \n",
    "    Efficiency: API produces efficient, quicker, and more reliable results than the outputs produced by human beings in an organization.\n",
    "    Flexible delivery of services: API provides fast and flexible delivery of services according to developers’ requirements.\n",
    "    Integration: The best feature of API is that it allows the movement of data between various sites and thus enhances the integrated user experience.\n",
    "    Automation: As API makes use of robotic computers rather than humans, it produces better and more automated results.\n",
    "    New functionality: While using API the developers find new tools and functionality for API exchanges.\n",
    "        \n",
    "B. Disadvantages:\n",
    "    \n",
    "    Cost: Developing and implementing API is costly at times and requires high maintenance and support from developers.\n",
    "    Security issues: Using API adds another layer of surface which is then prone to attacks, and hence the security risk problem is common in APIs."
   ]
  },
  {
   "cell_type": "markdown",
   "id": "e3094248",
   "metadata": {},
   "source": [
    "Q3. What is a Web API? Differentiate between API and Web API."
   ]
  },
  {
   "cell_type": "markdown",
   "id": "f8f1d778",
   "metadata": {},
   "source": [
    "A. Web API:\n",
    "    \n",
    "    Web API Is simply an API for the web. \n",
    "    It is an API that can be accessed using the HTTP protocol. \n",
    "    It can be built using Java, .nET, python, etc. \n",
    "    It is implemented to extend the functionality of a browser, simplify complex functions, and provide easy syntax to complex code.\n",
    "    \n",
    "B. Differnce Between API and Web API:\n",
    "    \n",
    "    a. API:\n",
    "        \n",
    "        Web services are a type of API, which must be accessed through a network connection.\n",
    "        Web services is used for REST, SOAP and XML-RPC for communication.\n",
    "        It doesn’t have lightweight design, needs a SOAP convention to send or receive data over the system.\n",
    "        It provides supports only for the HTTP protocol.\n",
    "        Web service supports only XML.\n",
    "        Web Services can be hosted on IIS.\n",
    "        \n",
    "    b. Web API:\n",
    "        \n",
    "        APIs are application interfaces, implying that one application can communicate with another application in a standardized manner.\n",
    "        API is used for any style of communication.\n",
    "        It has a light-weight architecture furthermore, useful for gadgets which have constrained transmission capacity like smart phones.\n",
    "        It provides support for the HTTP/s protocol: URL Request/Response Headers, and so on.\n",
    "        API supports XML and JSON.\n",
    "        Web API can be hosted only on IIS and self."
   ]
  },
  {
   "cell_type": "markdown",
   "id": "7fe87cc2",
   "metadata": {},
   "source": [
    "Q4. Explain REST and SOAP Architecture. Mention shortcomings of SOAP."
   ]
  },
  {
   "cell_type": "markdown",
   "id": "c10acf9c",
   "metadata": {},
   "source": [
    "A. REST:\n",
    "    \n",
    "    REST stands for Representational State Transfer, and follows the constraints of REST architecture allowing interaction with RESTful web services. \n",
    "    It defines a set of functions (GET, PUT, POST, DELETE) that clients use to access server data. \n",
    "    The functions used are:\n",
    "        GET (retrieve a record)\n",
    "        PUT (update a record)\n",
    "        POST (create a record)\n",
    "        DELETE (delete the record)\n",
    "    Its main feature is that REST API is statelessness, i.e., the servers do not save clients’ data between requests.\n",
    "    \n",
    "B. SOAP:\n",
    "    \n",
    "    SOAP stands for SIMPLE OBJECT ACCESS PROTOCOL.\n",
    "    Standardized protocol with pre-defined rules to follow.\n",
    "    Stateless by default, but it’s possible to make a SOAP API stateful.\n",
    "    It defines messages in XML format used by web applications to communicate with each other.\n",
    "    It is based on TCP and SMTP protocols.\n",
    "    \n",
    "C. Shortcomings of SOAP:\n",
    "    \n",
    "    Poorer performance, more complexity, less flexibility."
   ]
  },
  {
   "cell_type": "markdown",
   "id": "93820527",
   "metadata": {},
   "source": [
    "Q5. Differentiate between REST and SOAP."
   ]
  },
  {
   "cell_type": "markdown",
   "id": "ed505a40",
   "metadata": {},
   "source": [
    "A. REST:\n",
    "    \n",
    "    REST (Representational State Transfer) is a set of guidelines (architectural style) offering flexible implementation.\n",
    "    Lightweight and needs less bandwidth.\n",
    "    It inherits security from the underlying transport.\n",
    "    It permits different data formats such as plain text, HTML, XML, JSON, etc.\n",
    "    REST calls can be cached.\n",
    "    \n",
    "B. SOAP:\n",
    "    \n",
    "    SOAP (Simple Object Access Protocol) is a protocol with specific requirements like XML messaging.\n",
    "    Heavier and needs more bandwidth.\n",
    "    It defines its own security.\n",
    "    It permits XML-based data format only.\n",
    "    SOAP calls cannot be cached."
   ]
  },
  {
   "cell_type": "code",
   "execution_count": null,
   "id": "5719fc04",
   "metadata": {},
   "outputs": [],
   "source": []
  }
 ],
 "metadata": {
  "kernelspec": {
   "display_name": "Python 3 (ipykernel)",
   "language": "python",
   "name": "python3"
  },
  "language_info": {
   "codemirror_mode": {
    "name": "ipython",
    "version": 3
   },
   "file_extension": ".py",
   "mimetype": "text/x-python",
   "name": "python",
   "nbconvert_exporter": "python",
   "pygments_lexer": "ipython3",
   "version": "3.9.7"
  }
 },
 "nbformat": 4,
 "nbformat_minor": 5
}
