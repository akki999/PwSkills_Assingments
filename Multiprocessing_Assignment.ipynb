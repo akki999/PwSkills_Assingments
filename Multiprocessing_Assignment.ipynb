{
 "cells": [
  {
   "cell_type": "markdown",
   "id": "95ab7556",
   "metadata": {},
   "source": [
    "## Multiprocessing Assignment:"
   ]
  },
  {
   "cell_type": "markdown",
   "id": "250abc01",
   "metadata": {},
   "source": [
    "Q1. What is multiprocessing in python? Why is it useful? "
   ]
  },
  {
   "cell_type": "markdown",
   "id": "ab05a09c",
   "metadata": {},
   "source": [
    "I. Multiprocessing: \n",
    "    \n",
    "    Multiprocessing refers to the ability of a system to support more than one processor at the same time. \n",
    "    \n",
    "    Applications in a multiprocessing system are broken to smaller routines that run independently. \n",
    "    \n",
    "    The operating system allocates these threads to the processors improving performance of the system.\n",
    "    \n",
    "II. Why Multiprocessing is useful:\n",
    "    \n",
    "    The multiprocessing package offers both local and remote concurrency, effectively side-stepping the Global Interpreter Lock by using subprocesses instead of threads. \n",
    "    \n",
    "    Due to this, the multiprocessing module allows the programmer to fully leverage multiple processors on a given machine. \n",
    "    \n",
    "    It runs on both Unix and Windows."
   ]
  },
  {
   "cell_type": "markdown",
   "id": "3e9366b5",
   "metadata": {},
   "source": [
    "Q2. What are the differences between multiprocessing and multithreading?"
   ]
  },
  {
   "cell_type": "markdown",
   "id": "b924fc53",
   "metadata": {},
   "source": [
    "I. Multiprocessing:\n",
    "        \n",
    "    In Multiprocessing, CPUs are added for increasing computing power.\n",
    "    \n",
    "    In Multiprocessing, Many processes are executed simultaneously.\n",
    "    \n",
    "    Multiprocessing are classified into Symmetric and Asymmetric.\n",
    "    \n",
    "    In Multiprocessing, Process creation is a time-consuming process.\n",
    "    \n",
    "    In Multiprocessing, every process owned a separate address space.\n",
    "    \n",
    "II. Multithreading:\n",
    "    \n",
    "    While In Multithreading, many threads are created of a single process for increasing computing power.\n",
    "    \n",
    "    While in multithreading, many threads of a process are executed simultaneously.\n",
    "    \n",
    "    While Multithreading is not classified in any categories.\n",
    "    \n",
    "    While in Multithreading, process creation is according to economical.\n",
    "    \n",
    "    While in Multithreading, a common address space is shared by all the threads."
   ]
  },
  {
   "cell_type": "markdown",
   "id": "8d2cbb7d",
   "metadata": {},
   "source": [
    "Q3. Write a python code to create a process using the multiprocessing module."
   ]
  },
  {
   "cell_type": "code",
   "execution_count": 2,
   "id": "3393747e",
   "metadata": {},
   "outputs": [
    {
     "name": "stdout",
     "output_type": "stream",
     "text": [
      "This is my main Program.\n",
      "This is my Multi Processing Program.\n"
     ]
    }
   ],
   "source": [
    "def test():\n",
    "    print(\"This is my Multi Processing Program.\")\n",
    "    \n",
    "if __name__ == \"__main__\":\n",
    "    m = multiprocessing.Process(target=test)\n",
    "    print(\"This is my main Program.\")\n",
    "    m.start()\n",
    "    m.join()"
   ]
  },
  {
   "cell_type": "markdown",
   "id": "48fb53b3-948b-4374-aadf-9d6c72a9089a",
   "metadata": {},
   "source": [
    "Q4. What is a multiprocessing pool in python? Why is it used?"
   ]
  },
  {
   "cell_type": "markdown",
   "id": "fa03cea1-6f55-481d-b73d-3aec61da60fb",
   "metadata": {},
   "source": [
    "A process pool is a programming pattern for automatically managing a pool of worker processes.\n",
    "\n",
    "The pool is responsible for a fixed number of processes.\n",
    "\n",
    "It controls when they are created, such as when they are needed.\n",
    "\n",
    "It also controls what they should do when they are not being used, such as making them wait without consuming computational resources.\n",
    "\n",
    "The pool can provide a generic interface for executing ad hoc tasks with a variable number of arguments, much like the target property on the Process object, but does not require that we choose a process to run the task, start the process, or wait for the task to complete.\n",
    "\n",
    "The multiprocessing.pool.Pool class provides a process pool in Python.\n",
    "\n",
    "The multiprocessing.pool.Pool class can also be accessed by the alias multiprocessing.Pool. They can be used interchangeably.\n"
   ]
  },
  {
   "cell_type": "markdown",
   "id": "d037507b-a573-4e71-977e-66bb4421947e",
   "metadata": {},
   "source": [
    "Q5. How can we create a pool of worker processes in python using the multiprocessing module?"
   ]
  },
  {
   "cell_type": "code",
   "execution_count": 3,
   "id": "8c31d790-33ff-43a3-8fc9-044ef5fb0dbc",
   "metadata": {},
   "outputs": [
    {
     "name": "stdout",
     "output_type": "stream",
     "text": [
      "[1, 8, 27, 64, 125, 216, 343, 512, 729, 1000, 1331, 1728, 2197, 2744, 3375, 4096, 4913, 5832, 6859, 8000]\n"
     ]
    }
   ],
   "source": [
    "def cube(x):\n",
    "    return x*x*x\n",
    "\n",
    "if __name__ == \"__main__\":\n",
    "    with multiprocessing.Pool(processes=5) as pool:\n",
    "        out = pool.map(cube, [1,2,3,4,5,6,7,8,9,10,11,12,13,14,15,16,17,18,19,20])\n",
    "        print(out)"
   ]
  },
  {
   "cell_type": "markdown",
   "id": "43fae283-bc03-40e9-9bfe-596a532af963",
   "metadata": {},
   "source": [
    "Q6. Write a python program to create 4 processes, each process should print a different number using the\n",
    "multiprocessing module in python."
   ]
  },
  {
   "cell_type": "code",
   "execution_count": 6,
   "id": "a4c3bb2c-03b0-4f94-96e1-eb37724c7b62",
   "metadata": {},
   "outputs": [
    {
     "name": "stdout",
     "output_type": "stream",
     "text": [
      "ID of main process: 77\n",
      "ID of process running worker1: 418\n",
      "ID of process running worker2: 421\n",
      "ID of process running worker3: 428\n",
      "ID of process running worker4: 433\n",
      "ID of process p1: 418\n",
      "ID of process p2: 421\n",
      "ID of process p3: 428\n",
      "ID of process p4: 433\n",
      "All four processes finished execution!\n",
      "Process p1 is alive: False\n",
      "Process p2 is alive: False\n",
      "Process p3 is alive: False\n",
      "Process p4 is alive: False\n"
     ]
    }
   ],
   "source": [
    "# importing the multiprocessing module\n",
    "import multiprocessing\n",
    "import os\n",
    "\n",
    "def worker1():\n",
    "\t# printing process id\n",
    "\tprint(\"ID of process running worker1: {}\".format(os.getpid()))\n",
    "\n",
    "def worker2():\n",
    "\t# printing process id\n",
    "\tprint(\"ID of process running worker2: {}\".format(os.getpid()))\n",
    "\t\n",
    "def worker3():\n",
    "\t# printing process id\n",
    "\tprint(\"ID of process running worker3: {}\".format(os.getpid()))\n",
    "\t\n",
    "def worker4():\n",
    "\t# printing process id\n",
    "\tprint(\"ID of process running worker4: {}\".format(os.getpid()))\n",
    "\n",
    "if __name__ == \"__main__\":\n",
    "\t# printing main program process id\n",
    "\tprint(\"ID of main process: {}\".format(os.getpid()))\n",
    "\n",
    "\t# creating processes\n",
    "\tp1 = multiprocessing.Process(target=worker1)\n",
    "\tp2 = multiprocessing.Process(target=worker2)\n",
    "\tp3 = multiprocessing.Process(target=worker3)\n",
    "\tp4 = multiprocessing.Process(target=worker4)\n",
    "\n",
    "\t# starting processes\n",
    "\tp1.start()\n",
    "\tp2.start()\n",
    "\tp3.start()\n",
    "\tp4.start()\n",
    "\n",
    "\t# process IDs\n",
    "\tprint(\"ID of process p1: {}\".format(p1.pid))\n",
    "\tprint(\"ID of process p2: {}\".format(p2.pid))\n",
    "\tprint(\"ID of process p3: {}\".format(p3.pid))\n",
    "\tprint(\"ID of process p4: {}\".format(p4.pid))\n",
    "\n",
    "\t# wait until processes are finished\n",
    "\tp1.join()\n",
    "\tp2.join()\n",
    "\tp3.join()\n",
    "\tp4.join()\n",
    "\n",
    "\t# both processes finished\n",
    "\tprint(\"All four processes finished execution!\")\n",
    "\n",
    "\t# check if processes are alive\n",
    "\tprint(\"Process p1 is alive: {}\".format(p1.is_alive()))\n",
    "\tprint(\"Process p2 is alive: {}\".format(p2.is_alive()))\n",
    "\tprint(\"Process p3 is alive: {}\".format(p3.is_alive()))\n",
    "\tprint(\"Process p4 is alive: {}\".format(p4.is_alive()))\n"
   ]
  },
  {
   "cell_type": "code",
   "execution_count": null,
   "id": "1cdd65ea-4c22-44a2-9e0d-4e7a2e8ee4f4",
   "metadata": {},
   "outputs": [],
   "source": []
  }
 ],
 "metadata": {
  "kernelspec": {
   "display_name": "Python 3 (ipykernel)",
   "language": "python",
   "name": "python3"
  },
  "language_info": {
   "codemirror_mode": {
    "name": "ipython",
    "version": 3
   },
   "file_extension": ".py",
   "mimetype": "text/x-python",
   "name": "python",
   "nbconvert_exporter": "python",
   "pygments_lexer": "ipython3",
   "version": "3.10.8"
  }
 },
 "nbformat": 4,
 "nbformat_minor": 5
}
