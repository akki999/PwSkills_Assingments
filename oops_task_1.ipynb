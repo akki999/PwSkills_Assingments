{
 "cells": [
  {
   "cell_type": "markdown",
   "id": "15b3ea57",
   "metadata": {},
   "source": [
    "## OOPS TASK 1"
   ]
  },
  {
   "cell_type": "markdown",
   "id": "a99f160b",
   "metadata": {},
   "source": [
    "Q1, Create a vehicle class with an init method having instance variables as name_of_vehicle, max_speed\n",
    "and average_of_vehicle."
   ]
  },
  {
   "cell_type": "code",
   "execution_count": 1,
   "id": "f41d5513",
   "metadata": {},
   "outputs": [],
   "source": [
    "class vehicle():\n",
    "    def __init__(self, name_of_vehicle, max_speed, average_of_vehicle):\n",
    "        self.name_of_vehicle = name_of_vehicle\n",
    "        self.max_speed = max_speed\n",
    "        self.average_of_vehicle = average_of_vehicle"
   ]
  },
  {
   "cell_type": "code",
   "execution_count": 2,
   "id": "79e6f5d3",
   "metadata": {},
   "outputs": [],
   "source": [
    "## Creating of object vehicle class:\n",
    "bike = vehicle(\"Splendor\", \"80kmph\", 75)"
   ]
  },
  {
   "cell_type": "code",
   "execution_count": 3,
   "id": "6044ba5d",
   "metadata": {},
   "outputs": [
    {
     "name": "stdout",
     "output_type": "stream",
     "text": [
      "Name of vehicle is Splendor.\n",
      "Maximum speed of vehicle is 80kmph.\n",
      "Vehicle's Mileage is 75.\n"
     ]
    }
   ],
   "source": [
    "## Accessing the variables of class using object:\n",
    "print(f\"Name of vehicle is {bike.name_of_vehicle}.\")\n",
    "print(f\"Maximum speed of vehicle is {bike.max_speed}.\")\n",
    "print(f\"Vehicle's Mileage is {bike.average_of_vehicle}.\")"
   ]
  },
  {
   "cell_type": "markdown",
   "id": "4cdb54b2",
   "metadata": {},
   "source": [
    "Q2.  Create a child class car from the vehicle class created in Que 1, which will inherit the vehicle class.\n",
    "Create a method named seating_capacity which takes capacity as an argument and returns the name of\n",
    "the vehicle and its seating capacity."
   ]
  },
  {
   "cell_type": "code",
   "execution_count": 10,
   "id": "296046ae",
   "metadata": {},
   "outputs": [],
   "source": [
    "class child_vehicle(vehicle):\n",
    "    def seating_capacity(self, capacity):\n",
    "        return f\"The name of the vehicle is {bike2.name_of_vehicle} and its seating capacity is max to max {capacity} peoples.\""
   ]
  },
  {
   "cell_type": "code",
   "execution_count": 11,
   "id": "741cc3a1",
   "metadata": {},
   "outputs": [],
   "source": [
    "bike2 = child_vehicle(\"Pulsar\", \"150kmph\", 50)"
   ]
  },
  {
   "cell_type": "code",
   "execution_count": 12,
   "id": "058dfe0c",
   "metadata": {},
   "outputs": [
    {
     "data": {
      "text/plain": [
       "'The name of the vehicle is Pulsar and its seating capacity is max to max 2 peoples.'"
      ]
     },
     "execution_count": 12,
     "metadata": {},
     "output_type": "execute_result"
    }
   ],
   "source": [
    "bike2.seating_capacity(2)"
   ]
  },
  {
   "cell_type": "markdown",
   "id": "dfcbe0f7",
   "metadata": {},
   "source": [
    "Q3. What is multiple inheritance? Write a python code to demonstrate multiple inheritance."
   ]
  },
  {
   "cell_type": "markdown",
   "id": "9db7f5a1",
   "metadata": {},
   "source": [
    "#### Multiple Inheritance:\n",
    "\n",
    "    A class can be derived from more than one superclass in Python. This is called multiple inheritance.\n",
    "\n",
    "    For example:\n",
    "        \n",
    "        A class Bat is derived from superclasses Mammal and WingedAnimal. \n",
    "        \n",
    "        It makes sense because bat is a mammal as well as a winged animal.\n",
    "        \n",
    "    Example Below:"
   ]
  },
  {
   "cell_type": "code",
   "execution_count": 14,
   "id": "9cff6b92",
   "metadata": {},
   "outputs": [],
   "source": [
    "class Mammal:\n",
    "    def mammal_info(self):\n",
    "        print(\"Mammals can give direct birth.\")\n",
    "\n",
    "class WingedAnimal:\n",
    "    def winged_animal_info(self):\n",
    "        print(\"Winged animals can flap.\")\n",
    "\n",
    "class Bat(Mammal, WingedAnimal):\n",
    "    pass\n",
    "\n",
    "# create an object of Bat class\n",
    "b1 = Bat()"
   ]
  },
  {
   "cell_type": "code",
   "execution_count": 15,
   "id": "bedb2d42",
   "metadata": {},
   "outputs": [
    {
     "name": "stdout",
     "output_type": "stream",
     "text": [
      "Mammals can give direct birth.\n"
     ]
    }
   ],
   "source": [
    "b1.mammal_info()"
   ]
  },
  {
   "cell_type": "code",
   "execution_count": 16,
   "id": "ffbd149a",
   "metadata": {},
   "outputs": [
    {
     "name": "stdout",
     "output_type": "stream",
     "text": [
      "Winged animals can flap.\n"
     ]
    }
   ],
   "source": [
    "b1.winged_animal_info()"
   ]
  },
  {
   "cell_type": "markdown",
   "id": "6cd08d62",
   "metadata": {},
   "source": [
    "Q4. What are getter and setter in python? Create a class and create a getter and a setter method in this\n",
    "class."
   ]
  },
  {
   "cell_type": "markdown",
   "id": "a9a89816",
   "metadata": {},
   "source": [
    "#### Getter & Setter:\n",
    "\n",
    "    Basically, the main purpose of using getters and setters in object-oriented programs is to ensure data encapsulation.  \n",
    "    \n",
    "    Getters and Setters in python are often used when:\n",
    "\n",
    "        We use getters & setters to add validation logic around getting and setting a value.\n",
    "    \n",
    "        To avoid direct access of a class field i.e. private variables cannot be accessed directly or modified by external user.\n",
    "        \n",
    "    Example Below:"
   ]
  },
  {
   "cell_type": "code",
   "execution_count": 17,
   "id": "96228f40",
   "metadata": {},
   "outputs": [],
   "source": [
    "class car():\n",
    "    def __init__(self, year, make, model, speed):\n",
    "        self.__year = year ## Private Variable\n",
    "        self.__make = make ## Private Variable\n",
    "        self.__model = model ## Private Varible\n",
    "        self.__speed = 0 ## Private Variable\n",
    "        \n",
    "    def set_speed(self, speed):\n",
    "        self.__speed = 0 if speed < 0 else speed\n",
    "        \n",
    "    def get_speed(self):\n",
    "        return self.__speed"
   ]
  },
  {
   "cell_type": "code",
   "execution_count": 18,
   "id": "a37c7876",
   "metadata": {},
   "outputs": [],
   "source": [
    "c2 = car(\"2022\", \"Toyota\", \"Innova\", 15)"
   ]
  },
  {
   "cell_type": "code",
   "execution_count": 19,
   "id": "1000c0b4",
   "metadata": {},
   "outputs": [],
   "source": [
    "## when pass negative values it will set the speed value to 0.\n",
    "c2.set_speed(-78)"
   ]
  },
  {
   "cell_type": "code",
   "execution_count": 20,
   "id": "c916217d",
   "metadata": {},
   "outputs": [
    {
     "data": {
      "text/plain": [
       "0"
      ]
     },
     "execution_count": 20,
     "metadata": {},
     "output_type": "execute_result"
    }
   ],
   "source": [
    "c2.get_speed()"
   ]
  },
  {
   "cell_type": "code",
   "execution_count": 21,
   "id": "f0b70180",
   "metadata": {},
   "outputs": [],
   "source": [
    "## Setting the speed from 0 to 150:\n",
    "c2.set_speed(150)"
   ]
  },
  {
   "cell_type": "code",
   "execution_count": 22,
   "id": "14462307",
   "metadata": {},
   "outputs": [
    {
     "data": {
      "text/plain": [
       "150"
      ]
     },
     "execution_count": 22,
     "metadata": {},
     "output_type": "execute_result"
    }
   ],
   "source": [
    "c2.get_speed()"
   ]
  },
  {
   "cell_type": "markdown",
   "id": "07132b35",
   "metadata": {},
   "source": [
    "Q5.What is method overriding in python? Write a python code to demonstrate method overriding."
   ]
  },
  {
   "cell_type": "markdown",
   "id": "c208b86c",
   "metadata": {},
   "source": [
    "#### Mehtod Overriding:\n",
    "\n",
    "    Method Overriding is derived from the concept of object oriented programming.\n",
    "    \n",
    "    Method Overriding allows us to change the implementation of a function in the child class which is defined in the parent class.\n",
    "    \n",
    "    Method Overriding is a part of the inheritance mechanism.\n",
    "    \n",
    "    Method Overriding avoids duplication of code.\n",
    "    \n",
    "    Method Overriding also enhances the code adding some additional properties.\n",
    "    \n",
    "    Method overriding cannot be done within a class. So,we need to derive a child class from a parent class. Hence Inheritance is mandatory.\n",
    "    \n",
    "    The method must have the same name as in the parent class\n",
    "    \n",
    "    The method must have the same number of parameters as in the parent class.\n",
    "    \n",
    "    Example Below:"
   ]
  },
  {
   "cell_type": "code",
   "execution_count": 24,
   "id": "3feb1735",
   "metadata": {},
   "outputs": [],
   "source": [
    "# Parent class \n",
    "class Shape:\n",
    "    # properties \n",
    "    data1 = \"abc\"\n",
    "\n",
    "    # function no_of_sides \n",
    "    def no_of_sides(self):\n",
    "        print(\"My sides need to be defined. I am from shape class.\")\n",
    "\n",
    "    # function two_dimensional \n",
    "    def two_dimensional(self):\n",
    "        print(\"I am a 2D object. I am from shape class\")"
   ]
  },
  {
   "cell_type": "code",
   "execution_count": 25,
   "id": "2a467070",
   "metadata": {},
   "outputs": [],
   "source": [
    "class Square (Shape):\n",
    "    data2 = \"XYZ\"\n",
    "\n",
    "    def no_of_sides (self):\n",
    "        print(\"I have 4 sides. I am from Square class\")\n",
    "\n",
    "    def color(self):\n",
    "        print(\"I have teal color. I am from Square class.\")"
   ]
  },
  {
   "cell_type": "markdown",
   "id": "d5c28e5a",
   "metadata": {},
   "source": [
    "In the child class - Square, we have overridden the method no_of_sides() adding our own implementation.\n",
    "\n",
    "So now, when we create an object of the Square class and call the method no_of_sides() we will see, it will override the already exsisting version of the parent class."
   ]
  },
  {
   "cell_type": "code",
   "execution_count": 26,
   "id": "fc976771",
   "metadata": {},
   "outputs": [],
   "source": [
    "# Create an object of Square class \n",
    "sq = Square() "
   ]
  },
  {
   "cell_type": "code",
   "execution_count": 27,
   "id": "740e894b",
   "metadata": {},
   "outputs": [
    {
     "name": "stdout",
     "output_type": "stream",
     "text": [
      "I have 4 sides. I am from Square class\n"
     ]
    }
   ],
   "source": [
    "# Override the no_of_sides of parent class \n",
    "sq.no_of_sides()"
   ]
  },
  {
   "cell_type": "code",
   "execution_count": 28,
   "id": "3dcb66d6",
   "metadata": {},
   "outputs": [
    {
     "name": "stdout",
     "output_type": "stream",
     "text": [
      "I am a 2D object. I am from shape class\n"
     ]
    }
   ],
   "source": [
    "# Will inherit this method from the parent class\n",
    "sq.two_dimensional()"
   ]
  },
  {
   "cell_type": "code",
   "execution_count": 29,
   "id": "0ef35464",
   "metadata": {},
   "outputs": [
    {
     "name": "stdout",
     "output_type": "stream",
     "text": [
      "I have teal color. I am from Square class.\n"
     ]
    }
   ],
   "source": [
    "# It's own method color \n",
    "sq.color()"
   ]
  },
  {
   "cell_type": "code",
   "execution_count": null,
   "id": "bf386361",
   "metadata": {},
   "outputs": [],
   "source": []
  }
 ],
 "metadata": {
  "kernelspec": {
   "display_name": "Python 3 (ipykernel)",
   "language": "python",
   "name": "python3"
  },
  "language_info": {
   "codemirror_mode": {
    "name": "ipython",
    "version": 3
   },
   "file_extension": ".py",
   "mimetype": "text/x-python",
   "name": "python",
   "nbconvert_exporter": "python",
   "pygments_lexer": "ipython3",
   "version": "3.9.7"
  }
 },
 "nbformat": 4,
 "nbformat_minor": 5
}
