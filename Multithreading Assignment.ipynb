{
 "cells": [
  {
   "cell_type": "markdown",
   "id": "8a11494b",
   "metadata": {},
   "source": [
    "## Multithreading Assignment:"
   ]
  },
  {
   "cell_type": "markdown",
   "id": "e9aeaa84",
   "metadata": {},
   "source": [
    "Q.1 What is multithreading in python? Why is it used? Name the module used to handle threads in python."
   ]
  },
  {
   "cell_type": "markdown",
   "id": "49678b2c",
   "metadata": {},
   "source": [
    "Ans:\n",
    "\n",
    "I. Multithreading:\n",
    "    Multithreading is defined as the ability of a processor to execute multiple threads concurrently.\n",
    "    In a simple, single-core CPU, it is achieved using frequent switching between threads. This is termed as context switching. \n",
    "    In context switching, the state of a thread is saved and state of another thread is loaded whenever any interrupt (due to I/O or manually set) takes place.\n",
    "    Context switching takes place so frequently that all the threads appear to be running parallelly (this is termed as multitasking).\n",
    "    \n",
    "II. Why Multithreading is used:\n",
    "    Python multithreading enables efficient utilization of the resources as the threads share the data space and memory. Multithreading in Python allows the concurrent and parallel occurrence of various tasks. It causes a reduction in time consumption or response time, thereby increasing the performance.\n",
    "    \n",
    "III. Modules used to handle threads in python:\n",
    "    a. thread\n",
    "    b. threading\n",
    "    "
   ]
  },
  {
   "cell_type": "markdown",
   "id": "0f06b618",
   "metadata": {},
   "source": [
    "Q.2 Why threading module used? write the use of the following functions: activeCount(), currentThread() enumerate()"
   ]
  },
  {
   "cell_type": "markdown",
   "id": "830288ae",
   "metadata": {},
   "source": [
    "Ans: \n",
    "    Threading adds some additional automatic accounting, as well as several convenience utilities, all of which makes it the preferred option for standard Python code.\n",
    "    \n",
    "    i. activeCount(): Returns the number of thread objects that are active.\n",
    "        \n",
    "    ii. currentThread() : Returns the number of thread objects in the caller's thread control.\n",
    "        \n",
    "    iii. enumerate() : Returns a list of all thread objects that are currently active.\n",
    "    "
   ]
  },
  {
   "cell_type": "markdown",
   "id": "b7fa62de",
   "metadata": {},
   "source": [
    "Q.3 Explain the following functions: run(), start(), join(), isAlive()"
   ]
  },
  {
   "cell_type": "markdown",
   "id": "b57fbd21",
   "metadata": {},
   "source": [
    "i. start(): A start() method is used to initiate the activity of a thread. And it calls only once for each thread so that the execution of the thread can begin.\n",
    "    \n",
    "ii. run(): A run() method is used to define a thread's activity and can be overridden by a class that extends the threads class.\n",
    "    \n",
    "iii. join(): A join() method is used to block the execution of another code until the thread terminates.\n",
    "    \n",
    "iv: isAlive(): It is an inbuilt method of the Thread class of the threading module in Python. It uses a Thread object, and checks whether that thread is alive or not, ie, it is still running or not. This method returns True before the run() starts until just after the run() method is executed."
   ]
  },
  {
   "cell_type": "markdown",
   "id": "a9cc7931",
   "metadata": {},
   "source": [
    "Q.4 Write a python program to create two threads. Thread one must print the list of squares and thread two must print the list of cubes:"
   ]
  },
  {
   "cell_type": "code",
   "execution_count": 1,
   "id": "a86e5008",
   "metadata": {},
   "outputs": [],
   "source": [
    "import threading"
   ]
  },
  {
   "cell_type": "code",
   "execution_count": 33,
   "id": "1c73df58",
   "metadata": {},
   "outputs": [],
   "source": [
    "def square(input_list):\n",
    "    sq_list = []\n",
    "    for i in input_list:\n",
    "        sq_list.append(i*i)\n",
    "    print(sq_list)"
   ]
  },
  {
   "cell_type": "code",
   "execution_count": 34,
   "id": "4ee5a148",
   "metadata": {},
   "outputs": [],
   "source": [
    "def cube(x):\n",
    "    cube_list = []\n",
    "    for i in input_list:\n",
    "        cube_list.append(i*i*1)\n",
    "    print(cube_list)"
   ]
  },
  {
   "cell_type": "code",
   "execution_count": 35,
   "id": "c1499417",
   "metadata": {},
   "outputs": [],
   "source": [
    "input_list = [1,2,3,4,5,6,7,8,9,10]"
   ]
  },
  {
   "cell_type": "code",
   "execution_count": 36,
   "id": "cf991267",
   "metadata": {},
   "outputs": [],
   "source": [
    "### Creating thread:\n",
    "sq_thread = threading.Thread(target=square, args=(input_list,))\n",
    "cu_thread = threading.Thread(target=cube, args=(input_list,)) "
   ]
  },
  {
   "cell_type": "code",
   "execution_count": 38,
   "id": "e6e3810d",
   "metadata": {},
   "outputs": [
    {
     "name": "stdout",
     "output_type": "stream",
     "text": [
      "[1, 4, 9, 16, 25, 36, 49, 64, 81, 100]\n"
     ]
    }
   ],
   "source": [
    "sq_thread.start()"
   ]
  },
  {
   "cell_type": "code",
   "execution_count": 39,
   "id": "30523cc3",
   "metadata": {},
   "outputs": [
    {
     "name": "stdout",
     "output_type": "stream",
     "text": [
      "[1, 4, 9, 16, 25, 36, 49, 64, 81, 100]\n"
     ]
    }
   ],
   "source": [
    "cu_thread.start()"
   ]
  },
  {
   "cell_type": "markdown",
   "id": "d3b399c3",
   "metadata": {},
   "source": [
    "Q.5 State advantages and disadvantages of multithreading\u0019"
   ]
  },
  {
   "cell_type": "markdown",
   "id": "391a7c36",
   "metadata": {},
   "source": [
    "Advantages: \n",
    "    \n",
    "    Enhanced performance by decreased development time\n",
    "    \n",
    "    Simplified and streamlined program coding\n",
    "    \n",
    "    Improvised GUI responsiveness\n",
    "    \n",
    "    Simultaneous and parallelized occurrence of tasks\n",
    "    \n",
    "    Better use of cache storage by utilization of resources\n",
    "    \n",
    "    Decreased cost of maintenance\n",
    "    \n",
    "    Better use of CPU resource\n",
    "    \n",
    "Disadvantages:\n",
    "    \n",
    "    Complex debugging and testing processes\n",
    "    \n",
    "    Overhead switching of context\n",
    "    \n",
    "    Increased potential for deadlock occurrence\n",
    "    \n",
    "    Increased difficulty level in writing a program\n",
    "    \n",
    "    Unpredictable results"
   ]
  },
  {
   "cell_type": "markdown",
   "id": "d9497b87",
   "metadata": {},
   "source": [
    "6. Explain deadlocks and race conditions."
   ]
  },
  {
   "cell_type": "markdown",
   "id": "91a4224d",
   "metadata": {},
   "source": [
    "i. Deadlocks: \n",
    "    \n",
    "    A deadlock is a concurrency failure mode where a thread or threads wait for a condition that never occurs.\n",
    "\n",
    "    The result is that the deadlock threads are unable to progress and the program is stuck or frozen and must be terminated forcefully.\n",
    "    \n",
    "ii. Race Conditions:\n",
    "    \n",
    "    This is one of the major issues in concurrent programming. \n",
    "    \n",
    "    Concurrent access to shared resources can lead to race condition. \n",
    "    \n",
    "    A race condition may be defined as the occurring of a condition when two or more threads can access shared data and then try to change its value at the same time. \n",
    "    \n",
    "    Due to this, the values of variables may be unpredictable and vary depending on the timings of context switches of the processes."
   ]
  },
  {
   "cell_type": "code",
   "execution_count": null,
   "id": "44916545",
   "metadata": {},
   "outputs": [],
   "source": []
  }
 ],
 "metadata": {
  "kernelspec": {
   "display_name": "Python 3 (ipykernel)",
   "language": "python",
   "name": "python3"
  },
  "language_info": {
   "codemirror_mode": {
    "name": "ipython",
    "version": 3
   },
   "file_extension": ".py",
   "mimetype": "text/x-python",
   "name": "python",
   "nbconvert_exporter": "python",
   "pygments_lexer": "ipython3",
   "version": "3.9.7"
  }
 },
 "nbformat": 4,
 "nbformat_minor": 5
}
