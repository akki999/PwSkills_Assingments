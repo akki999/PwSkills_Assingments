{
 "cells": [
  {
   "cell_type": "markdown",
   "id": "ef9709e4",
   "metadata": {},
   "source": [
    "### Python 10th Feb Assignments:"
   ]
  },
  {
   "cell_type": "markdown",
   "id": "9ac241b6",
   "metadata": {},
   "source": [
    "Q1. Which function is used to open a file? What are the different modes of opening a file? Explain each mode\n",
    "of file opening."
   ]
  },
  {
   "cell_type": "markdown",
   "id": "d759541f",
   "metadata": {},
   "source": [
    "Ans: We use open() function to open a file. There are several modes for opening a file they are:\n",
    "        \n",
    "        1. Read Only (‘r’) : Open text file for reading. The handle is positioned at the beginning of the file. If the file does not exists, raises the I/O error. This is also the default mode in which a file is opened.\n",
    "        \n",
    "        2. Read and Write (‘r+’): Open the file for reading and writing. The handle is positioned at the beginning of the file. Raises I/O error if the file does not exist.\n",
    "        \n",
    "        3. Write Only (‘w’) : Open the file for writing. For the existing files, the data is truncated and over-written. The handle is positioned at the beginning of the file. Creates the file if the file does not exist.\n",
    "        \n",
    "        4. Write and Read (‘w+’) : Open the file for reading and writing. For an existing file, data is truncated and over-written. The handle is positioned at the beginning of the file.\n",
    "        \n",
    "        5. Append Only (‘a’): Open the file for writing. The file is created if it does not exist. The handle is positioned at the end of the file. The data being written will be inserted at the end, after the existing data.\n",
    "        \n",
    "        6. Append and Read (‘a+’) : Open the file for reading and writing. The file is created if it does not exist. The handle is positioned at the end of the file. The data being written will be inserted at the end, after the existing data."
   ]
  },
  {
   "cell_type": "markdown",
   "id": "1ed636a6",
   "metadata": {},
   "source": [
    "Q2. Why close() function is used? Why is it important to close a file?"
   ]
  },
  {
   "cell_type": "markdown",
   "id": "2781a50c",
   "metadata": {},
   "source": [
    "Ans:\n",
    "    Why close() function is used:\n",
    "        \n",
    "        Python file method close() closes the opened file. A closed file cannot be read or written any more. Any operation, which requires that the file be opened will raise a ValueError after the file has been closed. Calling close() more than once is allowed.\n",
    "\n",
    "        Python automatically closes a file when the reference object of a file is reassigned to another file. It is a good practice to use the close() method to close a file.\n",
    "    \n",
    "    Why is it important to close a file:\n",
    "        \n",
    "        It puts your program in the garbage collectors hands - though the file in theory will be auto closed, it may not be closed. Python 3 and Cpython generally do a pretty good job at garbage collecting, but not always, and other variants generally suck at it.\n",
    "\n",
    "        It can slow down your program. Too many things open, and thus more used space in the RAM, will impact performance.\n",
    "\n",
    "        For the most part, many changes to files in python do not go into effect until after the file is closed, so if your script edits, leaves open, and reads a file, it won't see the edits.\n",
    "\n",
    "        You could, theoretically, run in to limits of how many files you can have open.\n",
    "\n",
    "        Windows treats open files as locked, so legit things like AV scanners or other python scripts can't read the file.\n",
    "\n",
    "        It is sloppy programming (then again, I'm not exactly the best at remembering to close files myself!)"
   ]
  },
  {
   "cell_type": "markdown",
   "id": "4ea5a027",
   "metadata": {},
   "source": [
    "Q3. Write a python program to create a text file. Write ‘I want to become a Data Scientist’ in that file. Then\n",
    "close the file. Open this file and read the content of the file."
   ]
  },
  {
   "cell_type": "code",
   "execution_count": 1,
   "id": "d911d1f9",
   "metadata": {},
   "outputs": [],
   "source": [
    "### Python program to create a text file and write content init:\n",
    "\n",
    "f = open(\"test.txt\", 'w')\n",
    "f.write(\"I want to become a Data Scientist.\")\n",
    "f.close()"
   ]
  },
  {
   "cell_type": "code",
   "execution_count": 3,
   "id": "3d8f820f",
   "metadata": {},
   "outputs": [],
   "source": [
    "### Python program to read the contents of the file:\n",
    "\n",
    "data = open(\"test.txt\", 'r')\n",
    "data.read()\n",
    "data.close()"
   ]
  },
  {
   "cell_type": "markdown",
   "id": "e6b9fefd",
   "metadata": {},
   "source": [
    "Q4. Explain the following with python code: read(), readline() and readlines()."
   ]
  },
  {
   "cell_type": "markdown",
   "id": "83b87e2e",
   "metadata": {},
   "source": [
    "There are three ways to read data from a text file.\n",
    "\n",
    "    read() : Returns the read bytes in form of a string. Reads n bytes, if no n specified, reads the entire file.\n",
    "    File_object.read([n])\n",
    "\n",
    "    readline() : Reads a line of the file and returns in form of a string.For specified n, reads at most n bytes. However, does not reads more than one line, even if n exceeds the length of the line.\n",
    "    File_object.readline([n])\n",
    "    \n",
    "    readlines() : Reads all the lines and return them as each line a string element in a list.\n",
    "    File_object.readlines()"
   ]
  },
  {
   "cell_type": "code",
   "execution_count": 4,
   "id": "9311cfce",
   "metadata": {},
   "outputs": [
    {
     "name": "stdout",
     "output_type": "stream",
     "text": [
      "Output of Read function is \n",
      "Hello \n",
      "This is Delhi \n",
      "This is Paris \n",
      "This is London \n",
      "\n",
      "\n",
      "Output of Readline function is \n",
      "Hello \n",
      "\n",
      "\n",
      "Output of Read(9) function is \n",
      "Hello \n",
      "Th\n",
      "\n",
      "Output of Readline(9) function is \n",
      "Hello \n",
      "\n",
      "Output of Readlines function is \n",
      "['Hello \\n', 'This is Delhi \\n', 'This is Paris \\n', 'This is London \\n']\n",
      "\n"
     ]
    }
   ],
   "source": [
    "# Program to show various ways to read and\n",
    "# write data in a file.\n",
    "file1 = open(\"myfile.txt\",\"w\")\n",
    "L = [\"This is Delhi \\n\",\"This is Paris \\n\",\"This is London \\n\"]\n",
    "\n",
    "# \\n is placed to indicate EOL (End of Line)\n",
    "file1.write(\"Hello \\n\")\n",
    "file1.writelines(L)\n",
    "file1.close() #to change file access modes\n",
    "\n",
    "file1 = open(\"myfile.txt\",\"r+\")\n",
    "\n",
    "print(\"Output of Read function is \")\n",
    "print(file1.read())\n",
    "print()\n",
    "\n",
    "# seek(n) takes the file handle to the nth\n",
    "# bite from the beginning.\n",
    "file1.seek(0)\n",
    "\n",
    "print( \"Output of Readline function is \")\n",
    "print(file1.readline())\n",
    "print()\n",
    "\n",
    "file1.seek(0)\n",
    "\n",
    "# To show difference between read and readline\n",
    "print(\"Output of Read(9) function is \")\n",
    "print(file1.read(9))\n",
    "print()\n",
    "\n",
    "file1.seek(0)\n",
    "\n",
    "print(\"Output of Readline(9) function is \")\n",
    "print(file1.readline(9))\n",
    "\n",
    "file1.seek(0)\n",
    "# readlines function\n",
    "print(\"Output of Readlines function is \")\n",
    "print(file1.readlines())\n",
    "print()\n",
    "file1.close()\n"
   ]
  },
  {
   "cell_type": "markdown",
   "id": "82e57dd4",
   "metadata": {},
   "source": [
    "Q5. Explain why with statement is used with open(). What is the advantage of using with statement and\n",
    "open() together?"
   ]
  },
  {
   "cell_type": "markdown",
   "id": "c9f83686",
   "metadata": {},
   "source": [
    "In Python, with statement is used in exception handling to make the code cleaner and much more readable. It simplifies the management of common resources like file streams. Observe the following code example on how the use of with statement makes code cleaner. "
   ]
  },
  {
   "cell_type": "markdown",
   "id": "56203d38",
   "metadata": {},
   "source": [
    "Q6. Explain the write() and writelines() functions. Give a suitable example."
   ]
  },
  {
   "cell_type": "markdown",
   "id": "c1bd04ce",
   "metadata": {},
   "source": [
    "There are two ways to write in a file.\n",
    "\n",
    "    write() : Inserts the string str1 in a single line in the text file.\n",
    "    File_object.write(str1)\n",
    "    \n",
    "    writelines() : For a list of string elements, each string is inserted in the text file.Used to insert multiple strings at a single time.\n",
    "    File_object.writelines(L) for L = [str1, str2, str3]"
   ]
  },
  {
   "cell_type": "code",
   "execution_count": 6,
   "id": "645ccf36",
   "metadata": {},
   "outputs": [
    {
     "name": "stdout",
     "output_type": "stream",
     "text": [
      "Output of Readlines after appending\n",
      "['This is Delhi \\n', 'This is Paris \\n', 'This is London \\n', 'This is Mumbai \\n', 'This is USA \\n', 'Today \\n']\n",
      "\n",
      "Output of Readlines after writing\n",
      "['This is Delhi \\n', 'This is Paris \\n', 'This is London \\n', 'This is Mumbai \\n', 'This is USA \\n', 'Today \\n']\n",
      "\n"
     ]
    }
   ],
   "source": [
    "# Python program to illustrate\n",
    "# Append vs write mode\n",
    "file1 = open(\"myfile_1.txt\",\"w\")\n",
    "L = [\"This is Delhi \\n\",\"This is Paris \\n\",\"This is London \\n\", \"This is Mumbai \\n\", \"This is USA \\n\"]\n",
    "file1.writelines(L)\n",
    "file1.close()\n",
    "\n",
    "# Append-adds at last\n",
    "file1 = open(\"myfile_1.txt\",\"a\")#append mode\n",
    "file1.write(\"Today \\n\")\n",
    "file1.close()\n",
    "\n",
    "file1 = open(\"myfile_1.txt\",\"r\")\n",
    "print(\"Output of Readlines after appending\")\n",
    "print(file1.readlines())\n",
    "print()\n",
    "file1.close()\n",
    "\n",
    "# Write-Overwrites\n",
    "file1 = open(\"myfil_1.txt\",\"w\")#write mode\n",
    "file1.write(\"Tomorrow \\n\")\n",
    "file1.close()\n",
    "\n",
    "file1 = open(\"myfile_1.txt\",\"r\")\n",
    "print(\"Output of Readlines after writing\")\n",
    "print(file1.readlines())\n",
    "print()\n",
    "file1.close()\n"
   ]
  },
  {
   "cell_type": "code",
   "execution_count": null,
   "id": "96eb6912",
   "metadata": {},
   "outputs": [],
   "source": []
  }
 ],
 "metadata": {
  "kernelspec": {
   "display_name": "Python 3 (ipykernel)",
   "language": "python",
   "name": "python3"
  },
  "language_info": {
   "codemirror_mode": {
    "name": "ipython",
    "version": 3
   },
   "file_extension": ".py",
   "mimetype": "text/x-python",
   "name": "python",
   "nbconvert_exporter": "python",
   "pygments_lexer": "ipython3",
   "version": "3.9.7"
  }
 },
 "nbformat": 4,
 "nbformat_minor": 5
}
