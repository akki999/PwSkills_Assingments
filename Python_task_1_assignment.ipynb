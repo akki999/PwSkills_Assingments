{
 "cells": [
  {
   "cell_type": "markdown",
   "id": "d6ccefb6",
   "metadata": {},
   "source": [
    "## Pyhton Task 1 Assignment:"
   ]
  },
  {
   "cell_type": "markdown",
   "id": "8f3f6b79",
   "metadata": {},
   "source": [
    "Q1. Create a function which will take a list as an argument and return the product of all the numbers\n",
    "after creating a flat list.\n",
    "\n",
    "Use the below-given list as an argument for your function.\n",
    "\n",
    "Note: you must extract numeric keys and values of the dictionary also"
   ]
  },
  {
   "cell_type": "code",
   "execution_count": 21,
   "id": "91985bdf",
   "metadata": {},
   "outputs": [],
   "source": [
    "nested_list = [1,2,3,4, [44,55,66, True], False, (34,56,78,89,34), {1,2,3,3,2,1}, {1:34, \"key2\": [55, 67, 78, 89], 4: (45,\n",
    "22, 61, 34)}, [56, 'data science'], 'Machine Learning']"
   ]
  },
  {
   "cell_type": "markdown",
   "id": "a6eddd0c",
   "metadata": {},
   "source": [
    "### Function to flatten the multi-structures nested list:"
   ]
  },
  {
   "cell_type": "code",
   "execution_count": 20,
   "id": "0a62b9e9",
   "metadata": {},
   "outputs": [],
   "source": [
    "def flatten_list(list1):\n",
    "    flat_list = []\n",
    "    for i in list1:\n",
    "        if type(i) == int:\n",
    "            flat_list.append(i)\n",
    "        elif type(i) == bool:\n",
    "            flat_list.append(i)\n",
    "        elif type(i) == str:\n",
    "            flat_list.append(i)\n",
    "        elif type(i) == set:\n",
    "            for j in i:\n",
    "                flat_list.append(j)\n",
    "        elif type(i) == list:\n",
    "            for j in i:\n",
    "                flat_list.append(j)\n",
    "        elif type(i) == dict:\n",
    "            for k,l in i.items():\n",
    "                flat_list.append(k)\n",
    "                if type(l) == list:\n",
    "                    for m in l:\n",
    "                        flat_list.append(m)\n",
    "                elif type(l) == tuple:\n",
    "                    for m in l:\n",
    "                        flat_list.append(m)\n",
    "                    \n",
    "            \n",
    "    return flat_list"
   ]
  },
  {
   "cell_type": "code",
   "execution_count": 23,
   "id": "c6c6f438",
   "metadata": {},
   "outputs": [
    {
     "name": "stdout",
     "output_type": "stream",
     "text": [
      "[1, 2, 3, 4, 44, 55, 66, True, False, 1, 2, 3, 1, 'key2', 55, 67, 78, 89, 4, 45, 22, 61, 34, 56, 'data science', 'Machine Learning']\n"
     ]
    }
   ],
   "source": [
    "## Calling a function:\n",
    "final_list = flatten_list(nested_list)\n",
    "print(final_list)"
   ]
  },
  {
   "cell_type": "markdown",
   "id": "1ae6a99b",
   "metadata": {},
   "source": [
    "### Lambda function for returning a product of all numbers in list:"
   ]
  },
  {
   "cell_type": "code",
   "execution_count": 29,
   "id": "1327b02f",
   "metadata": {},
   "outputs": [
    {
     "name": "stdout",
     "output_type": "stream",
     "text": [
      "270605026972022206464000\n"
     ]
    }
   ],
   "source": [
    "from functools import reduce\n",
    "\n",
    "## Filtering the final_list as our final_list contains string also so we have to ignore them by using filter function and the we calculate product of all numbers:\n",
    "filter_list = list(filter(lambda x : type(x)==int, final_list))\n",
    "## Now we have the list which contains only numbers so now we can calculate the product of all numbers in the list:\n",
    "prod = reduce(lambda x,y: x*y, filter_list)\n",
    "print(prod)\n"
   ]
  },
  {
   "cell_type": "markdown",
   "id": "e4f54cb9",
   "metadata": {},
   "source": [
    "Q2. Write a python program for encrypting a message sent to you by your friend. \n",
    "The logic of encryption should be such that, \n",
    "\n",
    "for a the output should be z. \n",
    "\n",
    "For b, the output should be y. \n",
    "\n",
    "For c, the output should be x respectively. \n",
    "\n",
    "Also, the whitespace should be replaced with a dollar sign. Keep the punctuation marks unchanged.\n",
    "\n",
    "\n",
    "Input Sentence: I want to become a Data Scientist.\n",
    "\n",
    "\n",
    "Encrypt the above input sentence using the program you just created.\n",
    "\n",
    "\n",
    "Note: Convert the given input sentence into lowercase before encrypting. The final output should be\n",
    "lowercase."
   ]
  },
  {
   "cell_type": "code",
   "execution_count": 40,
   "id": "e470f21e",
   "metadata": {},
   "outputs": [
    {
     "name": "stdout",
     "output_type": "stream",
     "text": [
      "Dictionary of which characters should be replaced to which characters: {'a': 'z', 'b': 'y', 'c': 'x', 'd': 'w', 'e': 'v', 'f': 'u', 'g': 't', 'h': 's', 'i': 'r', 'j': 'q', 'k': 'p', 'l': 'o', 'm': 'n', 'n': 'm', 'o': 'l', 'p': 'k', 'q': 'j', 'r': 'i', 's': 'h', 't': 'g', 'u': 'f', 'v': 'e', 'w': 'd', 'x': 'c', 'y': 'b', 'z': 'a', ' ': '$'}\n",
      "Enter any sentence you want to encrypt.I want to become a Data Scientist.\n",
      "Final Encrpyted String: r$dzmg$gl$yvxlnv$z$wzgz$hxrvmgrhg\n"
     ]
    }
   ],
   "source": [
    "import string\n",
    "list_key = list(string.ascii_lowercase)\n",
    "\n",
    "value_list = list_key[::-1]\n",
    "\n",
    "## Creating a dictionary of above two list list_key will be key's of dictionary and value_list will be values of dictionary:\n",
    "\n",
    "result = {list_key[i]: value_list[i] for i in range(len(list_key))}\n",
    "\n",
    "## Adding $sign for white spaces:\n",
    "result[\" \"] = \"$\"\n",
    "\n",
    "print(\"Dictionary of which characters should be replaced to which characters:\", result)\n",
    "\n",
    "user_input_str = input(\"Enter any sentence you want to encrypt.\")\n",
    "lower_case_str = user_input_str.lower()\n",
    "encrypted_str = \"\"\n",
    "for i in lower_case_str:\n",
    "    if i in result:\n",
    "        encrypted_str = encrypted_str + result[i]\n",
    "print(\"Final Encrpyted String:\", encrypted_str)"
   ]
  },
  {
   "cell_type": "code",
   "execution_count": null,
   "id": "44ba8021",
   "metadata": {},
   "outputs": [],
   "source": []
  }
 ],
 "metadata": {
  "kernelspec": {
   "display_name": "Python 3 (ipykernel)",
   "language": "python",
   "name": "python3"
  },
  "language_info": {
   "codemirror_mode": {
    "name": "ipython",
    "version": 3
   },
   "file_extension": ".py",
   "mimetype": "text/x-python",
   "name": "python",
   "nbconvert_exporter": "python",
   "pygments_lexer": "ipython3",
   "version": "3.9.7"
  }
 },
 "nbformat": 4,
 "nbformat_minor": 5
}
