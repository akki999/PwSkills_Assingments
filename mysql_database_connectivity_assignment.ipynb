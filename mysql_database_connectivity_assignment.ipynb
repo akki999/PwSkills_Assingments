{
 "cells": [
  {
   "cell_type": "markdown",
   "id": "c9dc294d-6e95-4252-b7ac-e6cd46a6236e",
   "metadata": {},
   "source": [
    "Q1. What is a database? Differentiate between SQL and NoSQL databases."
   ]
  },
  {
   "cell_type": "markdown",
   "id": "7cd1165f-5e7e-4a42-9ba1-2a4c1b54c0a2",
   "metadata": {},
   "source": [
    "I. Database:\n",
    "    \n",
    "    A database is an organized collection of structured information, or data, typically stored electronically in a computer system. \n",
    "    \n",
    "    A database is usually controlled by a database management system (DBMS). \n",
    "    \n",
    "    Together, the data and the DBMS, along with the applications that are associated with them, are referred to as a database system, often shortened to just database.\n",
    "    \n",
    "II. Difference between SQL and NoSQL:\n",
    "    \n",
    "    A. SQL:\n",
    "        \n",
    "        i. RELATIONAL DATABASE MANAGEMENT SYSTEM (RDBMS)\n",
    "        ii. These databases have fixed or static or predefined schema.\n",
    "        iii. These databases are not suited for hierarchical data storage.\n",
    "        iv. These databases are best suited for complex queries.\n",
    "        v. It is Vertically Scalable.\n",
    "        vi. It Follows ACID property.\n",
    "        vii. Examples: MySQL, PostgreSQL, Oracle, MS-SQL Server, etc\n",
    "        \n",
    "    B. NoSQL:\n",
    "        \n",
    "        i. Non-relational or distributed database system.\n",
    "        ii. They have dynamic schema.\n",
    "        iii. These databases are best suited for hierarchical data storage..\n",
    "        iv. These databases are not so good for complex queries.\n",
    "        v. Horizontally scalable.\n",
    "        vi. It Follows CAP(consistency, availability, partition tolerance).\n",
    "        vii. Examples: MongoDB, GraphQL, HBase, Neo4j, Cassandra, etc"
   ]
  },
  {
   "cell_type": "markdown",
   "id": "290c161a-fe1b-4125-b414-19273dc8acaa",
   "metadata": {},
   "source": [
    "Q2. What is DDL? Explain why CREATE, DROP, ALTER, and TRUNCATE are used with an example."
   ]
  },
  {
   "cell_type": "markdown",
   "id": "a15209ab-5e44-4b2e-b1e0-b13945d2e8ef",
   "metadata": {},
   "source": [
    "I. DDL:\n",
    "    \n",
    "    Data Definition Language(DDL) is a subset of SQL and a part of DBMS(Database Management System). \n",
    "    \n",
    "    DDL consist of Commands to commands like CREATE, ALTER, TRUNCATE and DROP.\n",
    "    \n",
    "II. Command Usage with example:\n",
    "    \n",
    "        a. Create:\n",
    "            \n",
    "            This command is used to create a new table in SQL. \n",
    "            The user has to give information like table name, column names, and their datatypes.\n",
    "            Example:\n",
    "                CREATE TABLE Student_info\n",
    "                (\n",
    "                College_Id number(2),\n",
    "                College_name varchar(30),\n",
    "                Branch varchar(10)\n",
    "                );\n",
    "                \n",
    "        b. Alter:\n",
    "            \n",
    "            This command is used to add, delete or change columns in the existing table. \n",
    "            The user needs to know the existing table name and can do add, delete or modify tasks easily.\n",
    "            Example:\n",
    "               ALTER TABLE Student_info\n",
    "               ADD CGPA number;\n",
    "                \n",
    "        c. Trauncate:\n",
    "            \n",
    "            This command is used to remove all rows from the table, but the structure of the table still exists.\n",
    "            Example:\n",
    "                TRUNCATE TABLE Student_info;\n",
    "                \n",
    "        d. Drop:\n",
    "            \n",
    "            This command is used to remove an existing table along with its structure from the Database.\n",
    "            Example:\n",
    "                DROP TABLE Student_info;"
   ]
  },
  {
   "cell_type": "markdown",
   "id": "bbd4d4e9-1eb8-443e-bf02-b22f3d74d5b6",
   "metadata": {},
   "source": [
    "Q3. What is DML? Explain INSERT, UPDATE, and DELETE with an example."
   ]
  },
  {
   "cell_type": "markdown",
   "id": "d6960b75-3ecb-4e3a-bfca-92572eb64312",
   "metadata": {},
   "source": [
    "I. DML:\n",
    "    \n",
    "    DML stands for Data Manipulation Language. \n",
    "    \n",
    "    Tables and formulas are helpful when communicating with data stored up to a point in a database through SQL, but a time comes when we actually want to execute some fairly complicated data interactions. \n",
    "    \n",
    "    We will also need the Data Manipulation Language in that situation. \n",
    "    \n",
    "    DML is a way to inform a database precisely what we want it to do by conversing in a manner that it has been built to comprehend from the scratch. \n",
    "    \n",
    "    When it comes to interacting within existing data, whether adding, moving, or deleting data, it provides a convenient way to do so.\n",
    "    \n",
    "II. Commands used in DML:\n",
    "    \n",
    "    A. Insert:\n",
    "        \n",
    "        This command is used to enter the information or values into a row. \n",
    "        We can connect one or more records to a single table within a repository using this instruction. \n",
    "        This is often used to connect an unused tag to the documents.\n",
    "        Example:\n",
    "            INSERT INTO students ('stu_id' int, 'stu_name' varchar(20), 'city' varchar(20))\n",
    "            VALUES ('1', 'Nirmit', 'Gorakhpur');\n",
    "            \n",
    "    B. Update:\n",
    "        \n",
    "        This command is used to alter existing table records. Within a table, it modifies data from one or more records. \n",
    "        This command is used to alter the data which is already present in a table.\n",
    "        Example:\n",
    "            UPDATE students\n",
    "            SET due_fees = 20000\n",
    "            WHERE stu_name = 'Mini';\n",
    "        \n",
    "    C. Delete:\n",
    "        \n",
    "        It deletes all archives from a table. \n",
    "        This command is used to erase some or all of the previous table’s records. \n",
    "        If we do not specify the ‘WHERE’ condition then all the rows would be erased or deleted.\n",
    "        Example:\n",
    "            DELETE FROM students\n",
    "            WHERE stu_id = '001'; "
   ]
  },
  {
   "cell_type": "markdown",
   "id": "22b73480-4d99-4a47-a721-6ed7815324d0",
   "metadata": {},
   "source": [
    "Q4. What is DQL? Explain SELECT with an example."
   ]
  },
  {
   "cell_type": "markdown",
   "id": "67468de7-24a5-4ebe-9334-33a6eac347ec",
   "metadata": {},
   "source": [
    "I. DQL:\n",
    "    \n",
    "    Data query language (DQL) is part of the base grouping of SQL sub-languages. \n",
    "    These sub-languages are mainly categorized into four categories: a data query language (DQL), a data definition language (DDL), a data control language (DCL), and a data manipulation language (DML). \n",
    "    Sometimes a transaction control language (TCL) is argued to be part of the sub-language set as well.\n",
    "    DQL statements are used for performing queries on the data within schema objects. \n",
    "    The purpose of DQL commands is to get the schema relation based on the query passed to it.\n",
    "    \n",
    "II. Select Command:\n",
    "    \n",
    "    This command is used to get data out of the database. \n",
    "    It helps users of the database to access from an operating system, the significant data they need. \n",
    "    It sends a track result set from one tables or more.\n",
    "    example:\n",
    "        SELECT * \n",
    "        FROM students;\n",
    "\n",
    "        OR\n",
    "\n",
    "        SELECT * \n",
    "        FROM students\n",
    "        where due_fees <=20000;"
   ]
  },
  {
   "cell_type": "markdown",
   "id": "36779ee6-72e0-40a5-9f14-fb66f82a2836",
   "metadata": {},
   "source": [
    "Q5. Explain Primary Key and Foreign Key."
   ]
  },
  {
   "cell_type": "markdown",
   "id": "567f8717-a396-4fd6-8dbb-cecf6a11d8c3",
   "metadata": {},
   "source": [
    "A. Primary Key:\n",
    "    \n",
    "    A primary key is used to ensure that data in the specific column is unique. \n",
    "    A column cannot have NULL values. \n",
    "    It is either an existing table column or a column that is specifically generated by the database according to a defined sequence.\n",
    "    Example:\n",
    "        STUD_NO, as well as STUD_PHONE both, are candidate keys for relation STUDENT but STUD_NO can be chosen as the primary key (only one out of many candidate keys). \n",
    "\n",
    "B. Foreign Key:\n",
    "    \n",
    "    A foreign key is a column or group of columns in a relational database table that provides a link between data in two tables. \n",
    "    It is a column (or columns) that references a column (most often the primary key) of another table.\n",
    "    Example:\n",
    "        STUD_NO in STUDENT_COURSE is a foreign key to STUD_NO in STUDENT relation. \n",
    "    "
   ]
  },
  {
   "cell_type": "markdown",
   "id": "e3910302-2783-4eab-837a-98a049d2fb6f",
   "metadata": {},
   "source": [
    "Q6. Write a python code to connect MySQL to python. Explain the cursor() and execute() method."
   ]
  },
  {
   "cell_type": "markdown",
   "id": "0a2050e8-81b6-4d5f-832e-0dea01991501",
   "metadata": {},
   "source": [
    "A. Python Code to connect MYSQL to Python:\n",
    "    \n",
    "    import mysql.connector\n",
    "\n",
    "    mydb = mysql.connector.connect(\n",
    "      host=\"localhost\",\n",
    "      user=\"abc\",\n",
    "      password=\"password\"\n",
    "    )\n",
    "\n",
    "    print(mydb)\n",
    "\n",
    "    mycursor = mydb.cursor()\n",
    "    mycursor.execute(\"SQL statement need to be executed.\")\n",
    "    \n",
    "B. i. cursor: Use the cursor() method of a MySQLConnection object to create a cursor object to perform various SQL operations.\n",
    "    \n",
    "   ii. execute: The execute() methods run the SQL query and return the result.\n",
    "    \n",
    "        \n",
    "        \n",
    "    "
   ]
  },
  {
   "cell_type": "markdown",
   "id": "9c964329-1376-44c6-950b-00aafe936c51",
   "metadata": {},
   "source": [
    "Q7. Give the order of execution of SQL clauses in an SQL query."
   ]
  },
  {
   "cell_type": "markdown",
   "id": "e74ee3e7-9b8e-42e1-83a6-189192380281",
   "metadata": {},
   "source": [
    "1. FROM/JOIN: The FROM and/or JOIN clauses are executed first to determine the data of interest.\n",
    "\n",
    "2. WHERE: The WHERE clause is executed to filter out records that do not meet the constraints.\n",
    "\n",
    "3. GROUP BY: The GROUP BY clause is executed to group the data based on the values in one or more columns.\n",
    "\n",
    "4. HAVING: The HAVING clause is executed to remove the created grouped records that don’t meet the constraints.\n",
    "\n",
    "5. SELECT: The SELECT clause is executed to derive all desired columns and expressions.\n",
    "\n",
    "6. ORDER BY: The ORDER BY clause is executed to sort the derived values in ascending or descending order.\n",
    "\n",
    "7. LIMIT/OFFSET: Finally, the LIMIT and/or OFFSET clauses are executed to keep or skip a specified number of rows."
   ]
  },
  {
   "cell_type": "code",
   "execution_count": null,
   "id": "8fdb91ff-d5ee-47e4-8aa6-16bd30c6a4f5",
   "metadata": {},
   "outputs": [],
   "source": []
  }
 ],
 "metadata": {
  "kernelspec": {
   "display_name": "Python 3 (ipykernel)",
   "language": "python",
   "name": "python3"
  },
  "language_info": {
   "codemirror_mode": {
    "name": "ipython",
    "version": 3
   },
   "file_extension": ".py",
   "mimetype": "text/x-python",
   "name": "python",
   "nbconvert_exporter": "python",
   "pygments_lexer": "ipython3",
   "version": "3.10.8"
  }
 },
 "nbformat": 4,
 "nbformat_minor": 5
}
