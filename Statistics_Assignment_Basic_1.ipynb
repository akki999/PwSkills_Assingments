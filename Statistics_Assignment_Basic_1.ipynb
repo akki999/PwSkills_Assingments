{
 "cells": [
  {
   "cell_type": "markdown",
   "id": "50790a62",
   "metadata": {},
   "source": [
    "## Python Statistics Assignment"
   ]
  },
  {
   "cell_type": "markdown",
   "id": "c2b806f7",
   "metadata": {},
   "source": [
    "Q1. What is Statistics?\n",
    "\n",
    "Ans: Statistics is the science of collecting, organizing, analyzing the data."
   ]
  },
  {
   "cell_type": "markdown",
   "id": "a6cf3090",
   "metadata": {},
   "source": [
    "Q2. Define the different types of statistics and give an example of when each type might be used.\n",
    "\n",
    "Ans: There are two type of statistics they are:\n",
    "        \n",
    "        i. Descriptive stats: \n",
    "            \n",
    "            It consists of organizing and summarizing the data. \n",
    "            \n",
    "            Example when someone asks you that give the average of value of weights for all the students in classroom then you  should use Mean.\n",
    "        \n",
    "        ii. Inferential Statistics:\n",
    "            \n",
    "            It consists of using data you have measured to form conslusion.\n",
    "            \n",
    "            By analysin above example of average value of weight you have to form one conslusion by running any of the test (z- test, p-test, hypothesis test, etc) then you should use Inferential statictics"
   ]
  },
  {
   "cell_type": "markdown",
   "id": "f8198710",
   "metadata": {},
   "source": [
    "Q3. What are the different types of data and how do they differ from each other? Provide an example of\n",
    "each type of data."
   ]
  },
  {
   "cell_type": "markdown",
   "id": "8d3889a8",
   "metadata": {},
   "source": [
    "Data are of two types they are:\n",
    "    \n",
    "    1. Quantitative :\n",
    "        \n",
    "        It is nothing but the numerical data.\n",
    "        \n",
    "        Quantitative data can be further divided into two parts they are Discrete and Continous.\n",
    "        \n",
    "        Discrete contains whole numbers in the specific range. Example: A person can have 2 bank accounts 3 bank accounts but you can't have 2.5 bank accounts.\n",
    "            \n",
    "        Continous contains can have any value. It is weight, height, temperature, speed. Example weights can be 78.2, 96.4, etc.\n",
    "        \n",
    "    2. Qualitative :\n",
    "        \n",
    "        It is further divided into two parts they are Nominal and Ordinal.\n",
    "        \n",
    "        It is also called as caetgorical data.\n",
    "        \n",
    "        Example of Nominal data: Gender(Male, Female), Blood Group(A+, B+, o+, AB+, etc..)\n",
    "            \n",
    "        In case of Ordinal we can rank the categories that we can't do in the nominal data.\n",
    "        \n",
    "        Example of Ordinal Data: Review Rating out of 5 star(We can rank the 5 star rating as rank1, 4 star rank2, ... 1star rank1.)"
   ]
  },
  {
   "cell_type": "markdown",
   "id": "21d6a5d6",
   "metadata": {},
   "source": [
    "Q4. Categorise the following datasets with respect to quantitative and qualitative data types:\n",
    "\n",
    "    (i) Grading in exam: A+, A, B+, B, C+, C, D, E : Qualitative\n",
    "\n",
    "    (ii) Colour of mangoes: yellow, green, orange, red : Qualitative\n",
    "            \n",
    "    (iii) Height data of a class: [178.9, 179, 179.5, 176, 177.2, 178.3, 175.8,...] : Quantitative\n",
    "\n",
    "    (iv) Number of mangoes exported by a farm: [500, 600, 478, 672, ...] : Quantitative"
   ]
  },
  {
   "cell_type": "markdown",
   "id": "62265e78",
   "metadata": {},
   "source": [
    "Q5. Explain the concept of levels of measurement and give an example of a variable for each level."
   ]
  },
  {
   "cell_type": "markdown",
   "id": "a85642ac",
   "metadata": {},
   "source": [
    "1. Nominal Scale Data:\n",
    "    \n",
    "    Qualitative or categorical data.\n",
    "    \n",
    "    Eg: Gender, colours, etc.\n",
    "        \n",
    "    Order does not matters.\n",
    "    \n",
    "    In Nominal Scale we are focusing more on the count of values or distribution side of the data.\n",
    "    \n",
    "\n",
    "2. Ordinal Scale Data:\n",
    "    \n",
    "    Ranking and order matters.\n",
    "    \n",
    "    Difference cannot be measure.\n",
    "    \n",
    "    Example You can't find the difference between the degrees while ranking them 1. Phd, 2.Masters, 3.Btech\n",
    "    \n",
    "\n",
    "3. Interval Scale Data:\n",
    "    \n",
    "    The rank and order matters.\n",
    "    \n",
    "    Difference can also be measured.\n",
    "    \n",
    "    Ratio cannot be measured.\n",
    "    \n",
    "    Does not have 0 as a starting value.\n",
    "    \n",
    "    Example Tempearture of Values : 90F, 80F, 60F, 30F\n",
    "    \n",
    "\n",
    "4. Ratio Scale Data: \n",
    "    \n",
    "    Order and rank matters.\n",
    "    \n",
    "    Difference and ratios can be measured.\n",
    "    \n",
    "    It does have a 0 starting value.\n",
    "    \n",
    "    Example : Grades of students: 100,90,65,75,86,25,35,0,10,02,05, etc.."
   ]
  },
  {
   "cell_type": "markdown",
   "id": "efad0abf",
   "metadata": {},
   "source": [
    "Q6. Why is it important to understand the level of measurement when analyzing data? Provide an\n",
    "example to illustrate your answer."
   ]
  },
  {
   "cell_type": "markdown",
   "id": "e7bfbdd7",
   "metadata": {},
   "source": [
    "Knowing the level of measurement of your variables is important for two reasons.  \n",
    "\n",
    "Each of the levels of measurement provides a different level of detail.  \n",
    "\n",
    "Nominal provides the least amount of detail, ordinal provides the next highest amount of detail, and interval and ratio provide the most amount of detail.\n",
    "\n",
    "In a nominal level variable, values are grouped into categories that have no meaningful order.  \n",
    "\n",
    "For example, gender and political affiliation are nominal level variables.  \n",
    "\n",
    "Members in the group are assigned a label in that group and there is no hierarchy.  \n",
    "\n",
    "Typical descriptive statistics associated with nominal data are frequencies and percentages."
   ]
  },
  {
   "cell_type": "markdown",
   "id": "2d5696f3",
   "metadata": {},
   "source": [
    "Q7. How nominal data type is different from ordinal data type."
   ]
  },
  {
   "cell_type": "markdown",
   "id": "c43a99f8",
   "metadata": {},
   "source": [
    "Nominal data is classified without a natural order or rank, whereas ordinal data has a predetermined or natural order. On the other hand, numerical or quantitative data will always be a number that can be measured."
   ]
  },
  {
   "cell_type": "markdown",
   "id": "6e8c0d4a",
   "metadata": {},
   "source": [
    "Q8. Which type of plot can be used to display data in terms of range?"
   ]
  },
  {
   "cell_type": "markdown",
   "id": "60541972",
   "metadata": {},
   "source": [
    "Histogram"
   ]
  },
  {
   "cell_type": "markdown",
   "id": "8fb23bc1",
   "metadata": {},
   "source": [
    "Q9. Describe the difference between descriptive and inferential statistics. Give an example of each\n",
    "type of statistics and explain how they are used."
   ]
  },
  {
   "cell_type": "markdown",
   "id": "d3ab3dac",
   "metadata": {},
   "source": [
    "1. Descriptive Statistics:\n",
    "    \n",
    "    It consists of organizing and summarizing the data.\n",
    "    \n",
    "    Measure of Central Tendency (Mean, median, Mode).\n",
    "    \n",
    "    Measure if Dispersion (Variance, Standard Deviation).\n",
    "    \n",
    "    Histogram, Bar Chart, Pie Chart etc.\n",
    "    \n",
    "    \n",
    "2. Inferential Statistics:\n",
    "    \n",
    "    It consists of using data you have measured to form conclusions.\n",
    "    \n",
    "    Here the main thing is that we have to come on conclusion.\n",
    "    \n",
    "    z-test, t-test, hypothesis test, p-value, significance, etc"
   ]
  },
  {
   "cell_type": "markdown",
   "id": "b8e71e4a",
   "metadata": {},
   "source": [
    "Q10. What are some common measures of central tendency and variability used in statistics? Explain\n",
    "how each measure can be used to describe a dataset."
   ]
  },
  {
   "cell_type": "markdown",
   "id": "5250ea2c",
   "metadata": {},
   "source": [
    "Central Tendency:\n",
    "    \n",
    "    Measures of central tendency tell us what is common or typical about our variable.\n",
    "    \n",
    "    Three measures of central tendency are the mode, the median and the mean.\n",
    "    \n",
    "    The mode is used almost exclusively with nominal-level data, as it is the only measure of central tendency available for such variables. \n",
    "    \n",
    "    The median is used with ordinal-level data or when an interval/ratio-level variable is skewed (think of the Bill Gates example). \n",
    "    \n",
    "    The mean can only be used with interval/ratio level data.\n",
    "\n",
    "Measures of variability:\n",
    "    \n",
    "    Measures of variability are numbers that describe how much variation or diversity there is in a distribution.\n",
    "    \n",
    "    Four measures of variability are the range (the difference between the larges and smallest observations), the interquartile range (the difference between the 75th and 25th percentiles) the variance and the standard deviation.\n",
    "    \n",
    "    The variance and standard deviation are two closely related measures of variability for interval/ratio-level variables that increase or decrease depending on how closely the observations are clustered around the mean."
   ]
  },
  {
   "cell_type": "code",
   "execution_count": null,
   "id": "1b287133",
   "metadata": {},
   "outputs": [],
   "source": []
  }
 ],
 "metadata": {
  "kernelspec": {
   "display_name": "Python 3 (ipykernel)",
   "language": "python",
   "name": "python3"
  },
  "language_info": {
   "codemirror_mode": {
    "name": "ipython",
    "version": 3
   },
   "file_extension": ".py",
   "mimetype": "text/x-python",
   "name": "python",
   "nbconvert_exporter": "python",
   "pygments_lexer": "ipython3",
   "version": "3.9.7"
  }
 },
 "nbformat": 4,
 "nbformat_minor": 5
}
