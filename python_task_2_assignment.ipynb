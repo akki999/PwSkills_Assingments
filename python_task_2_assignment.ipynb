{
 "cells": [
  {
   "cell_type": "markdown",
   "id": "7db2fe10",
   "metadata": {},
   "source": [
    "## Python task 2 Assignment"
   ]
  },
  {
   "cell_type": "markdown",
   "id": "9fc178ab",
   "metadata": {},
   "source": [
    "Q1. You are writing code for a company. The requirement of the company is that you create a python\n",
    "function that will check whether the password entered by the user is correct or not. The function should\n",
    "take the password as input and return the string “Valid Password” if the entered password follows the\n",
    "below-given password guidelines else it should return “Invalid Password”.\n",
    "\n",
    "\n",
    "Note: \n",
    "\n",
    "1. The Password should contain at least two uppercase letters and at least two lowercase letters.\n",
    "\n",
    "2. The Password should contain at least a number and three special characters.\n",
    "\n",
    "3. The length of the password should be 10 characters long."
   ]
  },
  {
   "cell_type": "code",
   "execution_count": 14,
   "id": "55d8c051",
   "metadata": {},
   "outputs": [
    {
     "name": "stdout",
     "output_type": "stream",
     "text": [
      "Enter the Password:AaKa2@#$Fg\n",
      "Great, You have Entered a Valid Password !!!\n"
     ]
    }
   ],
   "source": [
    "from string import punctuation\n",
    "\n",
    "def check_password():\n",
    "    punc_list = list(punctuation)\n",
    "    number_list = ['0','1','2','3','4','5','6','7','8','9']\n",
    "\n",
    "    count_of_special_character = 0\n",
    "    uppercase_counter = 0\n",
    "    lowercase_counter = 0\n",
    "    number_counter = 0\n",
    "\n",
    "    user_password = input(\"Enter the Password:\") ## Taking Input from the user\n",
    "\n",
    "    for i in user_password:\n",
    "        if i in punc_list:\n",
    "            count_of_special_character = count_of_special_character + 1 ## Counting number of special characters.\n",
    "\n",
    "        if i.isupper():\n",
    "            uppercase_counter = uppercase_counter + 1 ## Counting number of Upper case characters.\n",
    "\n",
    "        if i.islower():\n",
    "            lowercase_counter = lowercase_counter + 1 ## Counting number of Lower case characters.\n",
    "            \n",
    "        if i in number_list:\n",
    "            number_counter = number_counter + 1\n",
    "\n",
    "    \"\"\"\n",
    "    Checking All this Conditions:\n",
    "    1. The Password should contain at least two uppercase letters and at least two lowercase letters.\n",
    "\n",
    "    2. The Password should contain at least a number and three special characters.\n",
    "\n",
    "    3. The length of the password should be 10 characters long.\n",
    "    \"\"\"\n",
    "\n",
    "    if len(user_password) == 10 and number_counter >= 1 and count_of_special_character >= 3 and uppercase_counter >= 2 and lowercase_counter >= 2:\n",
    "        print(\"Great, You have Entered a Valid Password !!!\")\n",
    "    else:\n",
    "        print(\"OOPS, you have entered a Invalid Password !!!\")\n",
    "\n",
    "\n",
    "check_password()"
   ]
  },
  {
   "cell_type": "markdown",
   "id": "ef4c133a",
   "metadata": {},
   "source": [
    "Q2. Solve the below-given questions using at least one of the following: \n",
    "\n",
    "1. Lambda function\n",
    "2. Filter function\n",
    "3. Map function\n",
    "4. List Comprehension"
   ]
  },
  {
   "cell_type": "markdown",
   "id": "2fcf203b",
   "metadata": {},
   "source": [
    "#### Q.2 A Check if the string starts with a particular letter"
   ]
  },
  {
   "cell_type": "code",
   "execution_count": 15,
   "id": "f3f625b2",
   "metadata": {},
   "outputs": [],
   "source": [
    "result = lambda x : f\"{str1} is Starting with Character J.\" if x.startswith(\"J\") or x.startswith(\"j\") else f\"{str1} is not starting with character J.\""
   ]
  },
  {
   "cell_type": "code",
   "execution_count": 17,
   "id": "33b7aad9",
   "metadata": {},
   "outputs": [
    {
     "data": {
      "text/plain": [
       "'Jakash is Starting with Character J.'"
      ]
     },
     "execution_count": 17,
     "metadata": {},
     "output_type": "execute_result"
    }
   ],
   "source": [
    "str1 =\"Jakash\"\n",
    "result(str1)"
   ]
  },
  {
   "cell_type": "code",
   "execution_count": 18,
   "id": "2d6a15a4",
   "metadata": {},
   "outputs": [
    {
     "data": {
      "text/plain": [
       "'Aakash is not starting with chaacter J.'"
      ]
     },
     "execution_count": 18,
     "metadata": {},
     "output_type": "execute_result"
    }
   ],
   "source": [
    "str1 =\"Aakash\"\n",
    "result(str1)"
   ]
  },
  {
   "cell_type": "markdown",
   "id": "a9726b2f",
   "metadata": {},
   "source": [
    "#### Q.2 B Check if the string is numeric or not."
   ]
  },
  {
   "cell_type": "code",
   "execution_count": 20,
   "id": "e55c299c",
   "metadata": {},
   "outputs": [],
   "source": [
    "numeric_str_or_not = lambda x : f\"{str1} is numeric.\" if str1.isnumeric() else f\"{str1} is not numeric.\""
   ]
  },
  {
   "cell_type": "code",
   "execution_count": 21,
   "id": "b87964e4",
   "metadata": {},
   "outputs": [
    {
     "data": {
      "text/plain": [
       "'aak145 is not numeric.'"
      ]
     },
     "execution_count": 21,
     "metadata": {},
     "output_type": "execute_result"
    }
   ],
   "source": [
    "str1 = \"aak145\"\n",
    "numeric_str_or_not(str1)"
   ]
  },
  {
   "cell_type": "code",
   "execution_count": 22,
   "id": "f1a88aca",
   "metadata": {},
   "outputs": [
    {
     "data": {
      "text/plain": [
       "'548793 is numeric.'"
      ]
     },
     "execution_count": 22,
     "metadata": {},
     "output_type": "execute_result"
    }
   ],
   "source": [
    "str1 = \"548793\"\n",
    "numeric_str_or_not(str1)"
   ]
  },
  {
   "cell_type": "markdown",
   "id": "77ace0ab",
   "metadata": {},
   "source": [
    "#### Q.2.C Sort a list of tuples having fruit names and their quantity. \n"
   ]
  },
  {
   "cell_type": "code",
   "execution_count": 26,
   "id": "93449200",
   "metadata": {},
   "outputs": [
    {
     "data": {
      "text/plain": [
       "[('grapes', 1000), ('mango', 99), ('orange', 80)]"
      ]
     },
     "execution_count": 26,
     "metadata": {},
     "output_type": "execute_result"
    }
   ],
   "source": [
    "list1 = [(\"mango\",99),(\"orange\",80), (\"grapes\", 1000)]\n",
    "\n",
    "set_list = set(list1)\n",
    "\n",
    "[i for i in set_list]"
   ]
  },
  {
   "cell_type": "markdown",
   "id": "26778db8",
   "metadata": {},
   "source": [
    "#### Q.2 D Find the squares of numbers from 1 to 10\n"
   ]
  },
  {
   "cell_type": "code",
   "execution_count": 27,
   "id": "e441d9dc",
   "metadata": {},
   "outputs": [
    {
     "data": {
      "text/plain": [
       "[1, 4, 9, 16, 25, 36, 49, 64, 81, 100]"
      ]
     },
     "execution_count": 27,
     "metadata": {},
     "output_type": "execute_result"
    }
   ],
   "source": [
    "l1 = [i*i for i in range(1,11)]\n",
    "l1"
   ]
  },
  {
   "cell_type": "markdown",
   "id": "ba87d1d7",
   "metadata": {},
   "source": [
    "#### Q.2 E Find the cube root of numbers from 1 to 10"
   ]
  },
  {
   "cell_type": "code",
   "execution_count": 29,
   "id": "eb2292df",
   "metadata": {},
   "outputs": [
    {
     "data": {
      "text/plain": [
       "[1.0,\n",
       " 1.2599210498948732,\n",
       " 1.4422495703074083,\n",
       " 1.5874010519681994,\n",
       " 1.7099759466766968,\n",
       " 1.8171205928321397,\n",
       " 1.912931182772389,\n",
       " 2.0,\n",
       " 2.080083823051904,\n",
       " 2.154434690031884]"
      ]
     },
     "execution_count": 29,
     "metadata": {},
     "output_type": "execute_result"
    }
   ],
   "source": [
    "l1 = [i**(1/3) for i in range(1,11)]\n",
    "l1"
   ]
  },
  {
   "cell_type": "markdown",
   "id": "408a1eff",
   "metadata": {},
   "source": [
    "#### Q.2 F Check if a given number is even:"
   ]
  },
  {
   "cell_type": "code",
   "execution_count": 31,
   "id": "ab6c894e",
   "metadata": {},
   "outputs": [
    {
     "data": {
      "text/plain": [
       "'Number 4 is even.'"
      ]
     },
     "execution_count": 31,
     "metadata": {},
     "output_type": "execute_result"
    }
   ],
   "source": [
    "even_num = lambda x : f\"Number {x} is even.\" if x%2==0 else f\"Number {x} is not even.\"\n",
    "even_num(4)"
   ]
  },
  {
   "cell_type": "code",
   "execution_count": 32,
   "id": "18b306db",
   "metadata": {},
   "outputs": [
    {
     "data": {
      "text/plain": [
       "'Number 5 is not even.'"
      ]
     },
     "execution_count": 32,
     "metadata": {},
     "output_type": "execute_result"
    }
   ],
   "source": [
    "even_num(5)"
   ]
  },
  {
   "cell_type": "markdown",
   "id": "51158564",
   "metadata": {},
   "source": [
    "#### Q.2 G Filter odd numbers from the given list."
   ]
  },
  {
   "cell_type": "code",
   "execution_count": 33,
   "id": "fbdc005b",
   "metadata": {},
   "outputs": [
    {
     "name": "stdout",
     "output_type": "stream",
     "text": [
      "[1, 3, 5, 7, 9]\n"
     ]
    }
   ],
   "source": [
    "l1 = [1,2,3,4,5,6,7,8,9,10]\n",
    "\n",
    "print(list(filter(lambda x: x%2!=0, l1)))"
   ]
  },
  {
   "cell_type": "markdown",
   "id": "24e19a91",
   "metadata": {},
   "source": [
    "#### Q.2 H Sort a list of integers into positive and negative integers lists."
   ]
  },
  {
   "cell_type": "code",
   "execution_count": 35,
   "id": "00dafdaa",
   "metadata": {},
   "outputs": [
    {
     "name": "stdout",
     "output_type": "stream",
     "text": [
      "Positive Number List: [1, 2, 3, 4, 5, 6]\n",
      "Negative Number List: [-1, -2, -3, -4, -5]\n"
     ]
    }
   ],
   "source": [
    "l1 = [1,2,3,4,5,6,-1,-2,-3,-4,-5,0]\n",
    "\n",
    "positive_list = filter(lambda x: x>0, l1)\n",
    "negative_list = filter(lambda x: x<0, l1)\n",
    "\n",
    "print(\"Positive Number List:\", list(positive_list))\n",
    "print(\"Negative Number List:\", list(negative_list))"
   ]
  },
  {
   "cell_type": "code",
   "execution_count": null,
   "id": "81f9b1f0",
   "metadata": {},
   "outputs": [],
   "source": []
  }
 ],
 "metadata": {
  "kernelspec": {
   "display_name": "Python 3 (ipykernel)",
   "language": "python",
   "name": "python3"
  },
  "language_info": {
   "codemirror_mode": {
    "name": "ipython",
    "version": 3
   },
   "file_extension": ".py",
   "mimetype": "text/x-python",
   "name": "python",
   "nbconvert_exporter": "python",
   "pygments_lexer": "ipython3",
   "version": "3.9.7"
  }
 },
 "nbformat": 4,
 "nbformat_minor": 5
}
