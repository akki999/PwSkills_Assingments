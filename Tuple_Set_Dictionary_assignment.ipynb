{
 "cells": [
  {
   "cell_type": "markdown",
   "id": "edb81a6e",
   "metadata": {},
   "source": [
    "### Tuple, Set, Dictionary Assignment"
   ]
  },
  {
   "cell_type": "markdown",
   "id": "55af5034",
   "metadata": {},
   "source": [
    "Q1. What are the characteristics of the tuples? Is tuple immutable?"
   ]
  },
  {
   "cell_type": "markdown",
   "id": "37e50503",
   "metadata": {},
   "source": [
    "Tuples are used to store multiple items in a single variable.\n",
    "\n",
    "Tuple is one of 4 built-in data types in Python used to store collections of data, the other 3 are List, Set, and Dictionary, all with different qualities and usage.\n",
    "\n",
    "A tuple is a collection which is ordered and unchangeable.\n",
    "\n",
    "Tuples are written with round brackets.\n",
    "\n",
    "Tuple items are ordered, unchangeable, and allow duplicate values.\n",
    "\n",
    "Tuple items are indexed, the first item has index [0], the second item has index [1] etc.\n",
    "\n",
    "Ordered : When we say that tuples are ordered, it means that the items have a defined order, and that order will not change.\n",
    "    \n",
    "Yes Tuple is immutable (Unchangeable): Tuples are unchangeable, meaning that we cannot change, add or remove items after the tuple has been created.\n",
    "    \n",
    "Allow Duplicates: Since tuples are indexed, they can have items with the same value.\n",
    "    \n"
   ]
  },
  {
   "cell_type": "markdown",
   "id": "e671340a",
   "metadata": {},
   "source": [
    "Q2. What are the two tuple methods in python? \n",
    "Give an example of each method. \n",
    "Give a reason why tuples have only two in-built methods as compared to Lists."
   ]
  },
  {
   "cell_type": "markdown",
   "id": "f3ccccc4",
   "metadata": {},
   "source": [
    "Tuple inbuilt Methods are count() and index(). As Tuple is immutable so we can't change data inside tuple as compared to list that's why it has only 2 inbuilt methods."
   ]
  },
  {
   "cell_type": "code",
   "execution_count": 2,
   "id": "edae3509",
   "metadata": {},
   "outputs": [
    {
     "name": "stdout",
     "output_type": "stream",
     "text": [
      "3\n"
     ]
    }
   ],
   "source": [
    "## Example of Count Function:\n",
    "t1 = (1,2,3,4,4,4)\n",
    "print(t1.count(4))"
   ]
  },
  {
   "cell_type": "code",
   "execution_count": 4,
   "id": "ea7eeb68",
   "metadata": {},
   "outputs": [
    {
     "name": "stdout",
     "output_type": "stream",
     "text": [
      "3\n"
     ]
    }
   ],
   "source": [
    "## Example of Index Function:\n",
    "## If duplicate elements are there it gives you the 1st element index\n",
    "t1 = (1,2,3,4,4,4)\n",
    "print(t1.index(4))"
   ]
  },
  {
   "cell_type": "markdown",
   "id": "41b3be10",
   "metadata": {},
   "source": [
    "Q3. Which collection data types in python do not allow duplicate items? \n",
    "Write a code using a set to remove duplicates from the given list.\n",
    "List = [1, 1, 1, 2, 1, 3, 1, 4, 2, 1, 2, 2, 2, 3, 2, 4, 3, 1, 3, 2, 3, 3, 3, 4, 4, 1, 4, 2, 4, 3, 4, 4]"
   ]
  },
  {
   "cell_type": "markdown",
   "id": "71ff56e0",
   "metadata": {},
   "source": [
    "Set python collection doesn't allow duplicates items."
   ]
  },
  {
   "cell_type": "code",
   "execution_count": 5,
   "id": "44434b6c",
   "metadata": {},
   "outputs": [
    {
     "data": {
      "text/plain": [
       "{1, 2, 3, 4}"
      ]
     },
     "execution_count": 5,
     "metadata": {},
     "output_type": "execute_result"
    }
   ],
   "source": [
    "list1 = [1, 1, 1, 2, 1, 3, 1, 4, 2, 1, 2, 2, 2, 3, 2, 4, 3, 1, 3, 2, 3, 3, 3, 4, 4, 1, 4, 2, 4, 3, 4, 4]\n",
    "\n",
    "set1 = set(list1)\n",
    "\n",
    "set1"
   ]
  },
  {
   "cell_type": "markdown",
   "id": "3523b958",
   "metadata": {},
   "source": [
    "Q4. Explain the difference between the union() and update() methods for a set. Give an example of each method."
   ]
  },
  {
   "cell_type": "markdown",
   "id": "e1b9f505",
   "metadata": {},
   "source": [
    "a. Union:\n",
    "    \n",
    "    The union() method returns a set that contains all items from the original set, and all items from the specified set(s).\n",
    "\n",
    "    You can specify as many sets you want, separated by commas.\n",
    "\n",
    "    It does not have to be a set, it can be any iterable object.\n",
    "\n",
    "    If an item is present in more than one set, the result will contain only one appearance of this item.\n",
    "    \n",
    "    Example below:"
   ]
  },
  {
   "cell_type": "code",
   "execution_count": 8,
   "id": "3a3a8c4e",
   "metadata": {},
   "outputs": [
    {
     "data": {
      "text/plain": [
       "{'DS', 'DSA', 'Webdev', 'java', 'mohan', 'rohan', 'sohan'}"
      ]
     },
     "execution_count": 8,
     "metadata": {},
     "output_type": "execute_result"
    }
   ],
   "source": [
    "### Union Example:\n",
    "x = {\"mohan\", \"sohan\", \"rohan\"}\n",
    "y = {\"DSA\", \"DS\", \"Webdev\"}\n",
    "z = {\"mohan\", \"Webdev\", \"java\"}\n",
    "\n",
    "result = x.union(y,z)\n",
    "result"
   ]
  },
  {
   "cell_type": "markdown",
   "id": "371e8870",
   "metadata": {},
   "source": [
    "b. Update:\n",
    "    \n",
    "    The update() method updates the current set, by adding items from another set (or any other iterable).\n",
    "\n",
    "    If an item is present in both sets, only one appearance of this item will be present in the updated set.\n",
    "    \n",
    "    Syntax: set.update(set)\n",
    "        \n",
    "    Example below:"
   ]
  },
  {
   "cell_type": "code",
   "execution_count": 15,
   "id": "3bbb9389",
   "metadata": {},
   "outputs": [
    {
     "name": "stdout",
     "output_type": "stream",
     "text": [
      "{'abc', 'jkl', 'mno', 'ghi', 'def'}\n",
      "{1, 2, 3, 4, 'DS', 'akki'}\n"
     ]
    }
   ],
   "source": [
    "### Update Exmaple:\n",
    "x = {\"abc\", \"def\", \"ghi\"}\n",
    "y = {\"jkl\", \"mno\", \"abc\"}\n",
    "x.update(y)\n",
    "print(x)\n",
    "\n",
    "a = {1,2,3,4}\n",
    "b = [\"akki\", \"DS\", 1, 2, 3, 4]\n",
    "\n",
    "a.update(b)\n",
    "print(a)"
   ]
  },
  {
   "cell_type": "markdown",
   "id": "b22b86a1",
   "metadata": {},
   "source": [
    "Q5. What is a dictionary? Give an example. Also, state whether a dictionary is ordered or unordered.\n",
    "\n",
    "Dictionary:\n",
    "    \n",
    "    Dictionaries are used to store data values in key:value pairs.\n",
    "\n",
    "    A dictionary is a collection which is ordered, changeable and do not allow duplicates.\n",
    "    \n",
    "    Dictionaries are written with curly brackets, and have keys and values:\n",
    "        \n",
    "Ordered or Unordered:\n",
    "    \n",
    "    When we say that dictionaries are ordered, it means that the items have a defined order, and that order will not change.\n",
    "\n",
    "    Unordered means that the items does not have a defined order, you cannot refer to an item by using an index.\n",
    "    \n",
    "Changeable:\n",
    "    \n",
    "    Dictionaries are changeable, meaning that we can change, add or remove items after the dictionary has been created.\n",
    "    \n",
    "Duplicates Not Allowed:\n",
    "    \n",
    "    Dictionaries cannot have two items with the same key\n",
    "    \n",
    "Example Below:"
   ]
  },
  {
   "cell_type": "code",
   "execution_count": 17,
   "id": "a2a9245c",
   "metadata": {},
   "outputs": [
    {
     "name": "stdout",
     "output_type": "stream",
     "text": [
      "{'a': 1, 'b': 2, 'c': 98}\n"
     ]
    }
   ],
   "source": [
    "## Dictionary Example:\n",
    "thisdict = {\n",
    "  \"a\": 1,\n",
    "  \"b\": 2,\n",
    "  \"c\": 58,\n",
    "  \"c\": 98\n",
    "}\n",
    "print(thisdict)"
   ]
  },
  {
   "cell_type": "markdown",
   "id": "badf9977",
   "metadata": {},
   "source": [
    "Q6. Can we create a nested dictionary? If so, please give an example by creating a simple one-level nested dictionary.\n",
    "\n",
    "Yes we, can create a nested dictioanry have given a example below:"
   ]
  },
  {
   "cell_type": "code",
   "execution_count": 18,
   "id": "55df2104",
   "metadata": {},
   "outputs": [
    {
     "data": {
      "text/plain": [
       "{'name': 'sohan',\n",
       " 'details': {'phone_no': 857946123,\n",
       "  'email_id': 'sohan@gmail.com',\n",
       "  'address': 'Mumbai'}}"
      ]
     },
     "execution_count": 18,
     "metadata": {},
     "output_type": "execute_result"
    }
   ],
   "source": [
    "## Example Nested Dictionary:\n",
    "\n",
    "nested_dict = {\"name\":\"sohan\", \"details\":{\"phone_no\":857946123, \"email_id\":\"sohan@gmail.com\", \"address\":\"Mumbai\"}}\n",
    "nested_dict"
   ]
  },
  {
   "cell_type": "markdown",
   "id": "48d875f2",
   "metadata": {},
   "source": [
    "Q7. Using setdefault() method, create key named topics in the given dictionary and also add the value of the key as \n",
    "this list ['Python', 'Machine Learning’, 'Deep Learning'] \n",
    "dict1 = {'language' : 'Python', 'course': 'Data Science Masters'}"
   ]
  },
  {
   "cell_type": "code",
   "execution_count": 21,
   "id": "9f96c2af",
   "metadata": {},
   "outputs": [
    {
     "name": "stdout",
     "output_type": "stream",
     "text": [
      "{'language': 'Python', 'course': 'Data Science Masters', 'topics': ['Python', 'Machine Learning', 'Deep Learning']}\n"
     ]
    }
   ],
   "source": [
    "dict1 = {'language' : 'Python', 'course': 'Data Science Masters'}\n",
    "dict1.setdefault(\"topics\", ['Python', 'Machine Learning', 'Deep Learning'])\n",
    "print(dict1)"
   ]
  },
  {
   "cell_type": "markdown",
   "id": "5214711c",
   "metadata": {},
   "source": [
    "Q8. What are the three view objects in dictionaries? \n",
    "Use the three in-built methods in python to display these three view objects for the given dictionary.\n",
    "\n",
    "dict1 = {'Sport': 'Cricket' , 'Teams': ['India', 'Australia', 'England', 'South Africa', 'Sri Lanka', 'New Zealand']}"
   ]
  },
  {
   "cell_type": "markdown",
   "id": "c6d11de4",
   "metadata": {},
   "source": [
    "There are Three view objects in dictionaries are as follow:\n",
    "    \n",
    "    a. dict.keys(), b. dict.values(), c. dict.items()"
   ]
  },
  {
   "cell_type": "code",
   "execution_count": 22,
   "id": "75f618d7",
   "metadata": {},
   "outputs": [
    {
     "data": {
      "text/plain": [
       "dict_keys(['Sport', 'Teams'])"
      ]
     },
     "execution_count": 22,
     "metadata": {},
     "output_type": "execute_result"
    }
   ],
   "source": [
    "### Example of dict.keys() \n",
    "dict1 = {'Sport': 'Cricket' , 'Teams': ['India', 'Australia', 'England', 'South Africa', 'Sri Lanka', 'New Zealand']}\n",
    "dict1.keys()"
   ]
  },
  {
   "cell_type": "code",
   "execution_count": 23,
   "id": "4b62cb5f",
   "metadata": {},
   "outputs": [
    {
     "data": {
      "text/plain": [
       "dict_values(['Cricket', ['India', 'Australia', 'England', 'South Africa', 'Sri Lanka', 'New Zealand']])"
      ]
     },
     "execution_count": 23,
     "metadata": {},
     "output_type": "execute_result"
    }
   ],
   "source": [
    "### Example of dict.values()\n",
    "dict1.values()"
   ]
  },
  {
   "cell_type": "code",
   "execution_count": 24,
   "id": "c239031e",
   "metadata": {},
   "outputs": [
    {
     "data": {
      "text/plain": [
       "dict_items([('Sport', 'Cricket'), ('Teams', ['India', 'Australia', 'England', 'South Africa', 'Sri Lanka', 'New Zealand'])])"
      ]
     },
     "execution_count": 24,
     "metadata": {},
     "output_type": "execute_result"
    }
   ],
   "source": [
    "### Example of dict.items()\n",
    "dict1.items()"
   ]
  },
  {
   "cell_type": "code",
   "execution_count": null,
   "id": "0094d0e3",
   "metadata": {},
   "outputs": [],
   "source": []
  }
 ],
 "metadata": {
  "kernelspec": {
   "display_name": "Python 3 (ipykernel)",
   "language": "python",
   "name": "python3"
  },
  "language_info": {
   "codemirror_mode": {
    "name": "ipython",
    "version": 3
   },
   "file_extension": ".py",
   "mimetype": "text/x-python",
   "name": "python",
   "nbconvert_exporter": "python",
   "pygments_lexer": "ipython3",
   "version": "3.9.7"
  }
 },
 "nbformat": 4,
 "nbformat_minor": 5
}
