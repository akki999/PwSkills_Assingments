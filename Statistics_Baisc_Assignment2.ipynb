{
 "cells": [
  {
   "cell_type": "markdown",
   "id": "a1603c1c",
   "metadata": {},
   "source": [
    "### Python Statistics Assignment 2"
   ]
  },
  {
   "cell_type": "markdown",
   "id": "e52f2eaf",
   "metadata": {},
   "source": [
    "Q1. What are the three measures of central tendency?\n",
    "\n",
    "Ans: Mean, Median, & Mode are the three measures of central tendency."
   ]
  },
  {
   "cell_type": "markdown",
   "id": "8602a9ac",
   "metadata": {},
   "source": [
    "Q2. What is the difference between the mean, median, and mode? How are they used to measure the\n",
    "central tendency of a dataset?\n",
    "\n",
    "Ans:\n",
    "    \n",
    "    Mode: the most frequent value. It shows the frequency of occurrence. We can have more than one mode or no mode at all.\n",
    "        \n",
    "        Example: 3, 3, 5, 6, 7, 7, 8, 1, 1, 1, 4, 5, 6.\n",
    "        Find the frequency of each number.\n",
    "        For number 3, it’s 2. For 5, it’s 2. For 6, it’s 2. For 7, it’s 2. For 8, it’s one. For 1, it’s 3. For 4, it’s 1.\n",
    "        The number with the highest frequency is the mode. Hence, the mode of the given sequence of numbers is 1.\n",
    "\n",
    "        \n",
    "    Median: the middle number in an ordered dataset.\n",
    "        \n",
    "        Place all the given numbers in an ascending order. The next step is to find the middle number on the list. It is called the median.\n",
    "        \n",
    "        Example: 4, 2, 8, 10, 19.\n",
    "        Arrange the numbers in ascending order. i .e., 2, 4, 8, 10, 19.\n",
    "        As the total numbers are 5, so the middle number 8 is the median here.\n",
    "    \n",
    "    Mean: the sum of all values divided by the total number of values.\n",
    "        \n",
    "        Example: To find the average of the four numbers 2, 4, 6, and 8, we need to add the number first.\n",
    "        2 + 4 + 6+ 8 = 20\n",
    "        Divide the sum by the total number of numbers, i. e 4.\n",
    "        20/4 = 5 is the average or mean"
   ]
  },
  {
   "cell_type": "markdown",
   "id": "b7f9a8f5",
   "metadata": {},
   "source": [
    "Q3. Measure the three measures of central tendency for the given height data:"
   ]
  },
  {
   "cell_type": "code",
   "execution_count": 1,
   "id": "37d0c835",
   "metadata": {},
   "outputs": [
    {
     "name": "stdout",
     "output_type": "stream",
     "text": [
      "The mean value for the given above data will be 177.01875\n",
      "The median value for the given above data will be 177.0\n",
      "The mode value for the given above data will be ModeResult(mode=array([177.]), count=array([3]))\n"
     ]
    }
   ],
   "source": [
    "import numpy as np\n",
    "from scipy import stats\n",
    "\n",
    "data = [178,177,176,177,178.2,178,175,179,180,175,178.9,176.2,177,172.5,178,176.5]\n",
    "\n",
    "mean_value = np.mean(data)\n",
    "\n",
    "median_value = np.median(data)\n",
    "\n",
    "mode_value = stats.mode(data)\n",
    "\n",
    "print(f\"The mean value for the given above data will be {mean_value}\")\n",
    "\n",
    "print(f\"The median value for the given above data will be {median_value}\")\n",
    "\n",
    "print(f\"The mode value for the given above data will be {mode_value}\")"
   ]
  },
  {
   "cell_type": "markdown",
   "id": "9a77d6b1",
   "metadata": {},
   "source": [
    "Q4. Find the standard deviation for the given data:"
   ]
  },
  {
   "cell_type": "code",
   "execution_count": 2,
   "id": "74caae64",
   "metadata": {},
   "outputs": [
    {
     "name": "stdout",
     "output_type": "stream",
     "text": [
      "The value of Standard Deviation for the above given data will be 1.7885814036548633\n"
     ]
    }
   ],
   "source": [
    "data = [178,177,176,177,178.2,178,175,179,180,175,178.9,176.2,177,172.5,178,176.5]\n",
    "\n",
    "std_value = np.std(data)\n",
    "\n",
    "print(f\"The value of Standard Deviation for the above given data will be {std_value}\")"
   ]
  },
  {
   "cell_type": "markdown",
   "id": "d1a65877",
   "metadata": {},
   "source": [
    "Q5. How are measures of dispersion such as range, variance, and standard deviation used to describe\n",
    "the spread of a dataset? Provide an example."
   ]
  },
  {
   "cell_type": "markdown",
   "id": "a51f0f06",
   "metadata": {},
   "source": [
    "i. Range:\n",
    "\n",
    "        The range is the easiest dispersion of data or measure of variability. \n",
    "\n",
    "        The range can measure by subtracting the lowest value from the massive Number. \n",
    "\n",
    "        The wide range indicates high variability, and the small range specifies low variability in the distribution. \n",
    "\n",
    "        To calculate a range, prepare all the values in ascending order, then subtract the lowest value from the highest value.\n",
    "\n",
    "        Range = Highest_value  – Lowest_value\n",
    "\n",
    "        eg : marks = [37,33,19,25,28]\n",
    "             range will be highest(37) - lowest(19) = range(18)\n",
    "            \n",
    "ii. Variance:\n",
    "\n",
    "        Variance is a simple measure of dispersion. \n",
    "        \n",
    "        Variance measures how far each number in the dataset from the mean. \n",
    "        \n",
    "        To compute variance first, calculate the mean and squared deviations from a mean.\n",
    "        \n",
    "        eg: given below\n",
    "        \n",
    "iii. Standard Deviation:\n",
    "    \n",
    "        Standard deviation is a squared root of the variance to get original values. \n",
    "\n",
    "        Low standard deviation indicates data points close to mean.\n",
    "\n",
    "        The normal distribution is conventional bits of help to understand the standard deviation.\n",
    "        \n",
    "        eg: Given below\n"
   ]
  },
  {
   "cell_type": "code",
   "execution_count": 3,
   "id": "fca11182",
   "metadata": {},
   "outputs": [
    {
     "name": "stdout",
     "output_type": "stream",
     "text": [
      "The variance of data is 3.199023437500001\n",
      "The standard deviation of data is 1.7885814036548633\n"
     ]
    }
   ],
   "source": [
    "## Example of variance:\n",
    "\n",
    "var_value = np.var(data)\n",
    "std_value = np.std(data)\n",
    "\n",
    "print(f\"The variance of data is {var_value}\")\n",
    "print(f\"The standard deviation of data is {std_value}\")"
   ]
  },
  {
   "cell_type": "markdown",
   "id": "8ac67f98",
   "metadata": {},
   "source": [
    "Q6. What is a Venn diagram?"
   ]
  },
  {
   "cell_type": "markdown",
   "id": "6460dad1",
   "metadata": {},
   "source": [
    "Venn Diagram:\n",
    "    \n",
    "    A Venn diagram is an illustration that uses circles to show the relationships among things or finite groups of things. \n",
    "\n",
    "    Circles that overlap have a commonality while circles that do not overlap do not share those traits. \n",
    "\n",
    "    Venn diagrams help to visually represent the similarities and differences between two concepts."
   ]
  },
  {
   "cell_type": "markdown",
   "id": "ab635328",
   "metadata": {},
   "source": [
    "Q7. For the two given sets A = (2,3,4,5,6,7) & B = (0,2,6,8,10). Find:"
   ]
  },
  {
   "cell_type": "code",
   "execution_count": 4,
   "id": "383378b6",
   "metadata": {},
   "outputs": [],
   "source": [
    "A = {2,3,4,5,6,7}\n",
    "B = {0,2,6,8,10}"
   ]
  },
  {
   "cell_type": "code",
   "execution_count": 5,
   "id": "419bf819",
   "metadata": {},
   "outputs": [
    {
     "data": {
      "text/plain": [
       "{2, 6}"
      ]
     },
     "execution_count": 5,
     "metadata": {},
     "output_type": "execute_result"
    }
   ],
   "source": [
    "## (i) A n B: Intersection\n",
    "A.intersection(B)"
   ]
  },
  {
   "cell_type": "code",
   "execution_count": 6,
   "id": "c17b43cc",
   "metadata": {},
   "outputs": [
    {
     "data": {
      "text/plain": [
       "{0, 2, 3, 4, 5, 6, 7, 8, 10}"
      ]
     },
     "execution_count": 6,
     "metadata": {},
     "output_type": "execute_result"
    }
   ],
   "source": [
    "## (ii) A ⋃ B : Union\n",
    "A.union(B)"
   ]
  },
  {
   "cell_type": "markdown",
   "id": "31695736",
   "metadata": {},
   "source": [
    "Q8. What do you understand about skewness in data?"
   ]
  },
  {
   "cell_type": "markdown",
   "id": "502fd693",
   "metadata": {},
   "source": [
    "Skewness:\n",
    "    \n",
    "    Skewness is a measurement of the distortion of symmetrical distribution or asymmetry in a data set. \n",
    "    \n",
    "    Skewness is demonstrated on a bell curve when data points are not distributed symmetrically to the left and right sides of the median on a bell curve."
   ]
  },
  {
   "cell_type": "markdown",
   "id": "a0479724",
   "metadata": {},
   "source": [
    "Q9. If a data is right skewed then what will be the position of median with respect to mean?"
   ]
  },
  {
   "cell_type": "markdown",
   "id": "c1205a2f",
   "metadata": {},
   "source": [
    "Right skewed distributions indicate that majority of the data is located on the left side of the graph, and the mean, or average, is greater than the median. \n",
    "\n",
    "There are values in the data set that are much greater than the median, or the value where 50% of the data is either lower or higher."
   ]
  },
  {
   "cell_type": "markdown",
   "id": "34627b07",
   "metadata": {},
   "source": [
    "Q10. Explain the difference between covariance and correlation. How are these measures used in\n",
    "statistical analysis?"
   ]
  },
  {
   "cell_type": "markdown",
   "id": "415b8748",
   "metadata": {},
   "source": [
    "Covariance:\n",
    "    \n",
    "    Covariance is a statistical term that refers to a systematic relationship between two random variables in which a change in the other reflects a change in one variable.\n",
    "\n",
    "    The covariance value can range from -∞ to +∞, with a negative value indicating a negative relationship and a positive value indicating a positive relationship.\n",
    "\n",
    "    The greater this number, the more reliant the relationship. Positive covariance denotes a direct relationship and is represented by a positive number.\n",
    "\n",
    "    A negative number, on the other hand, denotes negative covariance, which indicates an inverse relationship between the two variables. Covariance is great for defining the type of relationship, but it's terrible for interpreting the magnitude.\n",
    "\n",
    "Correlation:\n",
    "  \n",
    "    In statistics, correlation is a measure that determines the degree to which two or more random variables move in sequence. \n",
    "    \n",
    "    When an equivalent movement of another variable reciprocates the movement of one variable in some way or another during the study of two variables, the variables are said to be correlated. "
   ]
  },
  {
   "cell_type": "markdown",
   "id": "c0e5a0e6",
   "metadata": {},
   "source": [
    "Q11. What is the formula for calculating the sample mean? Provide an example calculation for a\n",
    "dataset."
   ]
  },
  {
   "cell_type": "markdown",
   "id": "3bbea879",
   "metadata": {},
   "source": [
    "Sample Mean:\n",
    "    \n",
    "    The sample mean formula is used to calculate the average value of the given sample data. \n",
    "    \n",
    "    It is necessary sometimes to calculate the average of the sample terms rather than expressing them with actual terms. \n",
    "    \n",
    "    The sample mean formula can be expressed as the ratio of the sum of terms to the number of terms.\n",
    "    \n",
    "    The sample mean formula is written as\n",
    "\n",
    "    Sample Mean = (Sum of terms) ÷ (Number of Terms) =\n",
    "    n\n",
    "    ∑x=(x1+x2+x3+⋯+xn)\n",
    "    i\n",
    "\n",
    "    Where,\n",
    "\n",
    "    i = sum of terms\n",
    "    n = number of terms\n",
    "\n",
    "    Examples on Sample Mean Formula\n",
    "    Example 1: Find the sample mean of 60, 57, 109, 50.\n",
    "\n",
    "    Solution: \n",
    "\n",
    "    To find: Sample mean\n",
    "    Sum of terms = 60 + 57 + 109 + 50 = 276\n",
    "    Number of terms = 4\n",
    "    Using sample mean formula,\n",
    "    mean = (sum of terms)/(number of terms)\n",
    "    mean = 276/4 = 69\n",
    "\n",
    "    Answer: The sample mean of 60, 57, 109, 50 is  69."
   ]
  },
  {
   "cell_type": "markdown",
   "id": "df48e30e",
   "metadata": {},
   "source": [
    "Q12. For a normal distribution data what is the relationship between its measure of central tendency?"
   ]
  },
  {
   "cell_type": "markdown",
   "id": "feac6d94",
   "metadata": {},
   "source": [
    "The relation will be mean == median == mode"
   ]
  },
  {
   "cell_type": "markdown",
   "id": "a1cb34ba",
   "metadata": {},
   "source": [
    "Q13. How is covariance different from correlation?"
   ]
  },
  {
   "cell_type": "markdown",
   "id": "bf7a2f97",
   "metadata": {},
   "source": [
    "Covariance shows you how the two variables differ, whereas correlation shows you how the two variables are related."
   ]
  },
  {
   "cell_type": "markdown",
   "id": "4416079f",
   "metadata": {},
   "source": [
    "Q14. How do outliers affect measures of central tendency and dispersion? Provide an example."
   ]
  },
  {
   "cell_type": "markdown",
   "id": "d34186bd",
   "metadata": {},
   "source": [
    "When a outlier is present it can effect the shape of the graph, if we have outliers to the right of the graph. These outliers are causing the mean to increase, but if we have outliers to the left of the graph these outliers are dragging down the mean. This causes a conflict because the mean no longer provides a good representation of the data, alternatively we would much rather use the median. The median on the other hand is less likely to be affect by outliers."
   ]
  },
  {
   "cell_type": "markdown",
   "id": "5a68a23e",
   "metadata": {},
   "source": [
    "Example: A student receives a zero on a quiz and subsequently has the following scores:\n",
    "0, 70, 70, 80, 85, 90, 90, 90, 95, 100\n",
    "\n",
    "Mean will be (0+70+70+80+85+85+90+90+90+95+100)/10 = 77\n",
    "\n",
    "outlier is 0\n"
   ]
  },
  {
   "cell_type": "code",
   "execution_count": null,
   "id": "a8e62fb2",
   "metadata": {},
   "outputs": [],
   "source": []
  }
 ],
 "metadata": {
  "kernelspec": {
   "display_name": "Python 3 (ipykernel)",
   "language": "python",
   "name": "python3"
  },
  "language_info": {
   "codemirror_mode": {
    "name": "ipython",
    "version": 3
   },
   "file_extension": ".py",
   "mimetype": "text/x-python",
   "name": "python",
   "nbconvert_exporter": "python",
   "pygments_lexer": "ipython3",
   "version": "3.9.7"
  }
 },
 "nbformat": 4,
 "nbformat_minor": 5
}
